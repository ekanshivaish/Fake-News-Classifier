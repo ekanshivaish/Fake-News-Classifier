{
 "cells": [
  {
   "cell_type": "markdown",
   "metadata": {},
   "source": [
    "# FAKE NEWS CLASSIFIER \n",
    "# - Aikanshi Vaish"
   ]
  },
  {
   "cell_type": "markdown",
   "metadata": {},
   "source": [
    "### Importing required Libraries"
   ]
  },
  {
   "cell_type": "code",
   "execution_count": 1,
   "metadata": {},
   "outputs": [],
   "source": [
    "import pandas as pd\n",
    "import numpy as np\n",
    "import seaborn as sns\n",
    "import nltk \n",
    "import os\n",
    "import matplotlib.pyplot as plt\n",
    "import re\n",
    "import matplotlib.pyplot as plt\n",
    "import seaborn as sns\n",
    "%matplotlib inline\n",
    "import sklearn"
   ]
  },
  {
   "cell_type": "code",
   "execution_count": 2,
   "metadata": {},
   "outputs": [],
   "source": [
    "import io\n",
    "import os\n",
    "import sys"
   ]
  },
  {
   "cell_type": "code",
   "execution_count": 3,
   "metadata": {},
   "outputs": [
    {
     "data": {
      "text/plain": [
       "['C:\\\\Users\\\\aikan\\\\OneDrive\\\\Desktop\\\\Fake-News-Classifier-main',\n",
       " 'C:\\\\Users\\\\aikan\\\\anaconda3\\\\python39.zip',\n",
       " 'C:\\\\Users\\\\aikan\\\\anaconda3\\\\DLLs',\n",
       " 'C:\\\\Users\\\\aikan\\\\anaconda3\\\\lib',\n",
       " 'C:\\\\Users\\\\aikan\\\\anaconda3',\n",
       " '',\n",
       " 'C:\\\\Users\\\\aikan\\\\anaconda3\\\\lib\\\\site-packages',\n",
       " 'C:\\\\Users\\\\aikan\\\\anaconda3\\\\lib\\\\site-packages\\\\locket-0.2.1-py3.9.egg',\n",
       " 'C:\\\\Users\\\\aikan\\\\anaconda3\\\\lib\\\\site-packages\\\\win32',\n",
       " 'C:\\\\Users\\\\aikan\\\\anaconda3\\\\lib\\\\site-packages\\\\win32\\\\lib',\n",
       " 'C:\\\\Users\\\\aikan\\\\anaconda3\\\\lib\\\\site-packages\\\\Pythonwin',\n",
       " 'C:\\\\Users\\\\aikan\\\\anaconda3\\\\lib\\\\site-packages\\\\IPython\\\\extensions',\n",
       " 'C:\\\\Users\\\\aikan\\\\.ipython']"
      ]
     },
     "execution_count": 3,
     "metadata": {},
     "output_type": "execute_result"
    }
   ],
   "source": [
    "sys.path"
   ]
  },
  {
   "cell_type": "code",
   "execution_count": 4,
   "metadata": {},
   "outputs": [
    {
     "name": "stdout",
     "output_type": "stream",
     "text": [
      "Requirement already satisfied: wordcloud in c:\\users\\aikan\\anaconda3\\lib\\site-packages (1.8.1)\n",
      "Requirement already satisfied: matplotlib in c:\\users\\aikan\\anaconda3\\lib\\site-packages (from wordcloud) (3.4.3)\n",
      "Requirement already satisfied: numpy>=1.6.1 in c:\\users\\aikan\\anaconda3\\lib\\site-packages (from wordcloud) (1.20.3)\n",
      "Requirement already satisfied: pillow in c:\\users\\aikan\\anaconda3\\lib\\site-packages (from wordcloud) (8.4.0)\n",
      "Requirement already satisfied: pyparsing>=2.2.1 in c:\\users\\aikan\\anaconda3\\lib\\site-packages (from matplotlib->wordcloud) (3.0.4)\n",
      "Requirement already satisfied: python-dateutil>=2.7 in c:\\users\\aikan\\anaconda3\\lib\\site-packages (from matplotlib->wordcloud) (2.8.2)\n",
      "Requirement already satisfied: kiwisolver>=1.0.1 in c:\\users\\aikan\\anaconda3\\lib\\site-packages (from matplotlib->wordcloud) (1.3.1)\n",
      "Requirement already satisfied: cycler>=0.10 in c:\\users\\aikan\\anaconda3\\lib\\site-packages (from matplotlib->wordcloud) (0.10.0)\n",
      "Requirement already satisfied: six in c:\\users\\aikan\\anaconda3\\lib\\site-packages (from cycler>=0.10->matplotlib->wordcloud) (1.16.0)\n"
     ]
    }
   ],
   "source": [
    "!pip install wordcloud"
   ]
  },
  {
   "cell_type": "markdown",
   "metadata": {},
   "source": [
    "### Data Overview"
   ]
  },
  {
   "cell_type": "code",
   "execution_count": 5,
   "metadata": {},
   "outputs": [
    {
     "data": {
      "text/html": [
       "<div>\n",
       "<style scoped>\n",
       "    .dataframe tbody tr th:only-of-type {\n",
       "        vertical-align: middle;\n",
       "    }\n",
       "\n",
       "    .dataframe tbody tr th {\n",
       "        vertical-align: top;\n",
       "    }\n",
       "\n",
       "    .dataframe thead th {\n",
       "        text-align: right;\n",
       "    }\n",
       "</style>\n",
       "<table border=\"1\" class=\"dataframe\">\n",
       "  <thead>\n",
       "    <tr style=\"text-align: right;\">\n",
       "      <th></th>\n",
       "      <th>URLs</th>\n",
       "      <th>Headline</th>\n",
       "      <th>Body</th>\n",
       "      <th>Label</th>\n",
       "    </tr>\n",
       "  </thead>\n",
       "  <tbody>\n",
       "    <tr>\n",
       "      <th>0</th>\n",
       "      <td>http://www.bbc.com/news/world-us-canada-414191...</td>\n",
       "      <td>Four ways Bob Corker skewered Donald Trump</td>\n",
       "      <td>Image copyright Getty Images\\nOn Sunday mornin...</td>\n",
       "      <td>1</td>\n",
       "    </tr>\n",
       "    <tr>\n",
       "      <th>1</th>\n",
       "      <td>https://www.reuters.com/article/us-filmfestiva...</td>\n",
       "      <td>Linklater's war veteran comedy speaks to moder...</td>\n",
       "      <td>LONDON (Reuters) - “Last Flag Flying”, a comed...</td>\n",
       "      <td>1</td>\n",
       "    </tr>\n",
       "    <tr>\n",
       "      <th>2</th>\n",
       "      <td>https://www.nytimes.com/2017/10/09/us/politics...</td>\n",
       "      <td>Trump’s Fight With Corker Jeopardizes His Legi...</td>\n",
       "      <td>The feud broke into public view last week when...</td>\n",
       "      <td>1</td>\n",
       "    </tr>\n",
       "    <tr>\n",
       "      <th>3</th>\n",
       "      <td>https://www.reuters.com/article/us-mexico-oil-...</td>\n",
       "      <td>Egypt's Cheiron wins tie-up with Pemex for Mex...</td>\n",
       "      <td>MEXICO CITY (Reuters) - Egypt’s Cheiron Holdin...</td>\n",
       "      <td>1</td>\n",
       "    </tr>\n",
       "    <tr>\n",
       "      <th>4</th>\n",
       "      <td>http://www.cnn.com/videos/cnnmoney/2017/10/08/...</td>\n",
       "      <td>Jason Aldean opens 'SNL' with Vegas tribute</td>\n",
       "      <td>Country singer Jason Aldean, who was performin...</td>\n",
       "      <td>1</td>\n",
       "    </tr>\n",
       "    <tr>\n",
       "      <th>...</th>\n",
       "      <td>...</td>\n",
       "      <td>...</td>\n",
       "      <td>...</td>\n",
       "      <td>...</td>\n",
       "    </tr>\n",
       "    <tr>\n",
       "      <th>4004</th>\n",
       "      <td>http://beforeitsnews.com/sports/2017/09/trends...</td>\n",
       "      <td>Trends to Watch</td>\n",
       "      <td>Trends to Watch\\n% of readers think this story...</td>\n",
       "      <td>0</td>\n",
       "    </tr>\n",
       "    <tr>\n",
       "      <th>4005</th>\n",
       "      <td>http://beforeitsnews.com/u-s-politics/2017/10/...</td>\n",
       "      <td>Trump Jr. Is Soon To Give A 30-Minute Speech F...</td>\n",
       "      <td>Trump Jr. Is Soon To Give A 30-Minute Speech F...</td>\n",
       "      <td>0</td>\n",
       "    </tr>\n",
       "    <tr>\n",
       "      <th>4006</th>\n",
       "      <td>https://www.activistpost.com/2017/09/ron-paul-...</td>\n",
       "      <td>Ron Paul on Trump, Anarchism &amp; the AltRight</td>\n",
       "      <td>NaN</td>\n",
       "      <td>0</td>\n",
       "    </tr>\n",
       "    <tr>\n",
       "      <th>4007</th>\n",
       "      <td>https://www.reuters.com/article/us-china-pharm...</td>\n",
       "      <td>China to accept overseas trial data in bid to ...</td>\n",
       "      <td>SHANGHAI (Reuters) - China said it plans to ac...</td>\n",
       "      <td>1</td>\n",
       "    </tr>\n",
       "    <tr>\n",
       "      <th>4008</th>\n",
       "      <td>http://beforeitsnews.com/u-s-politics/2017/10/...</td>\n",
       "      <td>Vice President Mike Pence Leaves NFL Game Beca...</td>\n",
       "      <td>Vice President Mike Pence Leaves NFL Game Beca...</td>\n",
       "      <td>0</td>\n",
       "    </tr>\n",
       "  </tbody>\n",
       "</table>\n",
       "<p>4009 rows × 4 columns</p>\n",
       "</div>"
      ],
      "text/plain": [
       "                                                   URLs  \\\n",
       "0     http://www.bbc.com/news/world-us-canada-414191...   \n",
       "1     https://www.reuters.com/article/us-filmfestiva...   \n",
       "2     https://www.nytimes.com/2017/10/09/us/politics...   \n",
       "3     https://www.reuters.com/article/us-mexico-oil-...   \n",
       "4     http://www.cnn.com/videos/cnnmoney/2017/10/08/...   \n",
       "...                                                 ...   \n",
       "4004  http://beforeitsnews.com/sports/2017/09/trends...   \n",
       "4005  http://beforeitsnews.com/u-s-politics/2017/10/...   \n",
       "4006  https://www.activistpost.com/2017/09/ron-paul-...   \n",
       "4007  https://www.reuters.com/article/us-china-pharm...   \n",
       "4008  http://beforeitsnews.com/u-s-politics/2017/10/...   \n",
       "\n",
       "                                               Headline  \\\n",
       "0            Four ways Bob Corker skewered Donald Trump   \n",
       "1     Linklater's war veteran comedy speaks to moder...   \n",
       "2     Trump’s Fight With Corker Jeopardizes His Legi...   \n",
       "3     Egypt's Cheiron wins tie-up with Pemex for Mex...   \n",
       "4           Jason Aldean opens 'SNL' with Vegas tribute   \n",
       "...                                                 ...   \n",
       "4004                                    Trends to Watch   \n",
       "4005  Trump Jr. Is Soon To Give A 30-Minute Speech F...   \n",
       "4006        Ron Paul on Trump, Anarchism & the AltRight   \n",
       "4007  China to accept overseas trial data in bid to ...   \n",
       "4008  Vice President Mike Pence Leaves NFL Game Beca...   \n",
       "\n",
       "                                                   Body  Label  \n",
       "0     Image copyright Getty Images\\nOn Sunday mornin...      1  \n",
       "1     LONDON (Reuters) - “Last Flag Flying”, a comed...      1  \n",
       "2     The feud broke into public view last week when...      1  \n",
       "3     MEXICO CITY (Reuters) - Egypt’s Cheiron Holdin...      1  \n",
       "4     Country singer Jason Aldean, who was performin...      1  \n",
       "...                                                 ...    ...  \n",
       "4004  Trends to Watch\\n% of readers think this story...      0  \n",
       "4005  Trump Jr. Is Soon To Give A 30-Minute Speech F...      0  \n",
       "4006                                                NaN      0  \n",
       "4007  SHANGHAI (Reuters) - China said it plans to ac...      1  \n",
       "4008  Vice President Mike Pence Leaves NFL Game Beca...      0  \n",
       "\n",
       "[4009 rows x 4 columns]"
      ]
     },
     "execution_count": 5,
     "metadata": {},
     "output_type": "execute_result"
    }
   ],
   "source": [
    "df= pd.read_csv('data.csv')\n",
    "df"
   ]
  },
  {
   "cell_type": "code",
   "execution_count": 6,
   "metadata": {},
   "outputs": [
    {
     "name": "stdout",
     "output_type": "stream",
     "text": [
      "<class 'pandas.core.frame.DataFrame'>\n",
      "RangeIndex: 4009 entries, 0 to 4008\n",
      "Data columns (total 4 columns):\n",
      " #   Column    Non-Null Count  Dtype \n",
      "---  ------    --------------  ----- \n",
      " 0   URLs      4009 non-null   object\n",
      " 1   Headline  4009 non-null   object\n",
      " 2   Body      3988 non-null   object\n",
      " 3   Label     4009 non-null   int64 \n",
      "dtypes: int64(1), object(3)\n",
      "memory usage: 125.4+ KB\n"
     ]
    }
   ],
   "source": [
    "df.info()"
   ]
  },
  {
   "cell_type": "code",
   "execution_count": 7,
   "metadata": {},
   "outputs": [
    {
     "data": {
      "text/plain": [
       "((4009, 4), 16036)"
      ]
     },
     "execution_count": 7,
     "metadata": {},
     "output_type": "execute_result"
    }
   ],
   "source": [
    "df.shape, df.size"
   ]
  },
  {
   "cell_type": "markdown",
   "metadata": {},
   "source": [
    "## EDA "
   ]
  },
  {
   "cell_type": "code",
   "execution_count": 8,
   "metadata": {},
   "outputs": [
    {
     "data": {
      "text/html": [
       "<div>\n",
       "<style scoped>\n",
       "    .dataframe tbody tr th:only-of-type {\n",
       "        vertical-align: middle;\n",
       "    }\n",
       "\n",
       "    .dataframe tbody tr th {\n",
       "        vertical-align: top;\n",
       "    }\n",
       "\n",
       "    .dataframe thead th {\n",
       "        text-align: right;\n",
       "    }\n",
       "</style>\n",
       "<table border=\"1\" class=\"dataframe\">\n",
       "  <thead>\n",
       "    <tr style=\"text-align: right;\">\n",
       "      <th></th>\n",
       "      <th>Headline</th>\n",
       "      <th>Body</th>\n",
       "      <th>Label</th>\n",
       "    </tr>\n",
       "  </thead>\n",
       "  <tbody>\n",
       "    <tr>\n",
       "      <th>0</th>\n",
       "      <td>Four ways Bob Corker skewered Donald Trump</td>\n",
       "      <td>Image copyright Getty Images\\nOn Sunday mornin...</td>\n",
       "      <td>1</td>\n",
       "    </tr>\n",
       "    <tr>\n",
       "      <th>1</th>\n",
       "      <td>Linklater's war veteran comedy speaks to moder...</td>\n",
       "      <td>LONDON (Reuters) - “Last Flag Flying”, a comed...</td>\n",
       "      <td>1</td>\n",
       "    </tr>\n",
       "    <tr>\n",
       "      <th>2</th>\n",
       "      <td>Trump’s Fight With Corker Jeopardizes His Legi...</td>\n",
       "      <td>The feud broke into public view last week when...</td>\n",
       "      <td>1</td>\n",
       "    </tr>\n",
       "    <tr>\n",
       "      <th>3</th>\n",
       "      <td>Egypt's Cheiron wins tie-up with Pemex for Mex...</td>\n",
       "      <td>MEXICO CITY (Reuters) - Egypt’s Cheiron Holdin...</td>\n",
       "      <td>1</td>\n",
       "    </tr>\n",
       "    <tr>\n",
       "      <th>4</th>\n",
       "      <td>Jason Aldean opens 'SNL' with Vegas tribute</td>\n",
       "      <td>Country singer Jason Aldean, who was performin...</td>\n",
       "      <td>1</td>\n",
       "    </tr>\n",
       "    <tr>\n",
       "      <th>...</th>\n",
       "      <td>...</td>\n",
       "      <td>...</td>\n",
       "      <td>...</td>\n",
       "    </tr>\n",
       "    <tr>\n",
       "      <th>4003</th>\n",
       "      <td>CNN and Globalist Exposed - Steve Quayle and A...</td>\n",
       "      <td>Vietnam Is in Great Danger, You Must Publish a...</td>\n",
       "      <td>0</td>\n",
       "    </tr>\n",
       "    <tr>\n",
       "      <th>4004</th>\n",
       "      <td>Trends to Watch</td>\n",
       "      <td>Trends to Watch\\n% of readers think this story...</td>\n",
       "      <td>0</td>\n",
       "    </tr>\n",
       "    <tr>\n",
       "      <th>4005</th>\n",
       "      <td>Trump Jr. Is Soon To Give A 30-Minute Speech F...</td>\n",
       "      <td>Trump Jr. Is Soon To Give A 30-Minute Speech F...</td>\n",
       "      <td>0</td>\n",
       "    </tr>\n",
       "    <tr>\n",
       "      <th>4007</th>\n",
       "      <td>China to accept overseas trial data in bid to ...</td>\n",
       "      <td>SHANGHAI (Reuters) - China said it plans to ac...</td>\n",
       "      <td>1</td>\n",
       "    </tr>\n",
       "    <tr>\n",
       "      <th>4008</th>\n",
       "      <td>Vice President Mike Pence Leaves NFL Game Beca...</td>\n",
       "      <td>Vice President Mike Pence Leaves NFL Game Beca...</td>\n",
       "      <td>0</td>\n",
       "    </tr>\n",
       "  </tbody>\n",
       "</table>\n",
       "<p>3988 rows × 3 columns</p>\n",
       "</div>"
      ],
      "text/plain": [
       "                                               Headline  \\\n",
       "0            Four ways Bob Corker skewered Donald Trump   \n",
       "1     Linklater's war veteran comedy speaks to moder...   \n",
       "2     Trump’s Fight With Corker Jeopardizes His Legi...   \n",
       "3     Egypt's Cheiron wins tie-up with Pemex for Mex...   \n",
       "4           Jason Aldean opens 'SNL' with Vegas tribute   \n",
       "...                                                 ...   \n",
       "4003  CNN and Globalist Exposed - Steve Quayle and A...   \n",
       "4004                                    Trends to Watch   \n",
       "4005  Trump Jr. Is Soon To Give A 30-Minute Speech F...   \n",
       "4007  China to accept overseas trial data in bid to ...   \n",
       "4008  Vice President Mike Pence Leaves NFL Game Beca...   \n",
       "\n",
       "                                                   Body  Label  \n",
       "0     Image copyright Getty Images\\nOn Sunday mornin...      1  \n",
       "1     LONDON (Reuters) - “Last Flag Flying”, a comed...      1  \n",
       "2     The feud broke into public view last week when...      1  \n",
       "3     MEXICO CITY (Reuters) - Egypt’s Cheiron Holdin...      1  \n",
       "4     Country singer Jason Aldean, who was performin...      1  \n",
       "...                                                 ...    ...  \n",
       "4003  Vietnam Is in Great Danger, You Must Publish a...      0  \n",
       "4004  Trends to Watch\\n% of readers think this story...      0  \n",
       "4005  Trump Jr. Is Soon To Give A 30-Minute Speech F...      0  \n",
       "4007  SHANGHAI (Reuters) - China said it plans to ac...      1  \n",
       "4008  Vice President Mike Pence Leaves NFL Game Beca...      0  \n",
       "\n",
       "[3988 rows x 3 columns]"
      ]
     },
     "execution_count": 8,
     "metadata": {},
     "output_type": "execute_result"
    }
   ],
   "source": [
    "df.drop('URLs', inplace= True, axis= 1)\n",
    "df.dropna(inplace= True)\n",
    "df"
   ]
  },
  {
   "cell_type": "code",
   "execution_count": 9,
   "metadata": {},
   "outputs": [
    {
     "data": {
      "text/plain": [
       "((3988, 3), 11964)"
      ]
     },
     "execution_count": 9,
     "metadata": {},
     "output_type": "execute_result"
    }
   ],
   "source": [
    "## Shape and size after dropping null value and extra columns:\n",
    "df.shape, df.size"
   ]
  },
  {
   "cell_type": "code",
   "execution_count": 10,
   "metadata": {},
   "outputs": [
    {
     "data": {
      "text/plain": [
       "Text(0.5, 1.0, 'Fake Vs Real news')"
      ]
     },
     "execution_count": 10,
     "metadata": {},
     "output_type": "execute_result"
    },
    {
     "data": {
      "image/png": "[encoded data removed]",
      "text/plain": [
       "<Figure size 432x288 with 1 Axes>"
      ]
     },
     "metadata": {
      "needs_background": "light"
     },
     "output_type": "display_data"
    }
   ],
   "source": [
    "sns.countplot(x='Label', \n",
    "              data=df,\n",
    "              palette=['#ffaec0', '#b8b5ff'],\n",
    "              saturation=1)\n",
    "sns.despine()\n",
    "plt.xticks([0,1], ['Fake', 'Real'])\n",
    "plt.title('Fake Vs Real news')"
   ]
  },
  {
   "cell_type": "code",
   "execution_count": 11,
   "metadata": {},
   "outputs": [
    {
     "data": {
      "text/plain": [
       "0    2120\n",
       "1    1868\n",
       "Name: Label, dtype: int64"
      ]
     },
     "execution_count": 11,
     "metadata": {},
     "output_type": "execute_result"
    }
   ],
   "source": [
    "### Count of real and fake values::\n",
    "df.Label.value_counts()"
   ]
  },
  {
   "cell_type": "markdown",
   "metadata": {},
   "source": [
    "### Text analysis & Clean-Up"
   ]
  },
  {
   "cell_type": "code",
   "execution_count": 12,
   "metadata": {},
   "outputs": [],
   "source": [
    "### we need a target ie will be our headline + body text\n",
    "df['Text']= df['Headline']+ ' ' + df['Body']"
   ]
  },
  {
   "cell_type": "code",
   "execution_count": 13,
   "metadata": {},
   "outputs": [],
   "source": [
    "df['Length']=df['Text'].apply(len)"
   ]
  },
  {
   "cell_type": "code",
   "execution_count": 14,
   "metadata": {},
   "outputs": [
    {
     "data": {
      "text/html": [
       "<div>\n",
       "<style scoped>\n",
       "    .dataframe tbody tr th:only-of-type {\n",
       "        vertical-align: middle;\n",
       "    }\n",
       "\n",
       "    .dataframe tbody tr th {\n",
       "        vertical-align: top;\n",
       "    }\n",
       "\n",
       "    .dataframe thead tr th {\n",
       "        text-align: left;\n",
       "    }\n",
       "\n",
       "    .dataframe thead tr:last-of-type th {\n",
       "        text-align: right;\n",
       "    }\n",
       "</style>\n",
       "<table border=\"1\" class=\"dataframe\">\n",
       "  <thead>\n",
       "    <tr>\n",
       "      <th></th>\n",
       "      <th colspan=\"8\" halign=\"left\">Length</th>\n",
       "    </tr>\n",
       "    <tr>\n",
       "      <th></th>\n",
       "      <th>count</th>\n",
       "      <th>mean</th>\n",
       "      <th>std</th>\n",
       "      <th>min</th>\n",
       "      <th>25%</th>\n",
       "      <th>50%</th>\n",
       "      <th>75%</th>\n",
       "      <th>max</th>\n",
       "    </tr>\n",
       "    <tr>\n",
       "      <th>Label</th>\n",
       "      <th></th>\n",
       "      <th></th>\n",
       "      <th></th>\n",
       "      <th></th>\n",
       "      <th></th>\n",
       "      <th></th>\n",
       "      <th></th>\n",
       "      <th></th>\n",
       "    </tr>\n",
       "  </thead>\n",
       "  <tbody>\n",
       "    <tr>\n",
       "      <th>0</th>\n",
       "      <td>2120.0</td>\n",
       "      <td>2457.573585</td>\n",
       "      <td>2989.973011</td>\n",
       "      <td>110.0</td>\n",
       "      <td>260.75</td>\n",
       "      <td>1598.5</td>\n",
       "      <td>3539.25</td>\n",
       "      <td>32859.0</td>\n",
       "    </tr>\n",
       "    <tr>\n",
       "      <th>1</th>\n",
       "      <td>1868.0</td>\n",
       "      <td>3620.605460</td>\n",
       "      <td>3057.972872</td>\n",
       "      <td>120.0</td>\n",
       "      <td>1561.50</td>\n",
       "      <td>2912.0</td>\n",
       "      <td>5064.00</td>\n",
       "      <td>32811.0</td>\n",
       "    </tr>\n",
       "  </tbody>\n",
       "</table>\n",
       "</div>"
      ],
      "text/plain": [
       "       Length                                                             \\\n",
       "        count         mean          std    min      25%     50%      75%   \n",
       "Label                                                                      \n",
       "0      2120.0  2457.573585  2989.973011  110.0   260.75  1598.5  3539.25   \n",
       "1      1868.0  3620.605460  3057.972872  120.0  1561.50  2912.0  5064.00   \n",
       "\n",
       "                \n",
       "           max  \n",
       "Label           \n",
       "0      32859.0  \n",
       "1      32811.0  "
      ]
     },
     "execution_count": 14,
     "metadata": {},
     "output_type": "execute_result"
    }
   ],
   "source": [
    "df.groupby('Label').describe()"
   ]
  },
  {
   "cell_type": "code",
   "execution_count": 15,
   "metadata": {},
   "outputs": [
    {
     "data": {
      "text/plain": [
       "<AxesSubplot:ylabel='Frequency'>"
      ]
     },
     "execution_count": 15,
     "metadata": {},
     "output_type": "execute_result"
    },
    {
     "data": {
      "image/png": "[encoded data removed]",
      "text/plain": [
       "<Figure size 432x288 with 1 Axes>"
      ]
     },
     "metadata": {
      "needs_background": "light"
     },
     "output_type": "display_data"
    }
   ],
   "source": [
    "df['Length'].plot(bins=50, kind= 'hist')"
   ]
  },
  {
   "cell_type": "code",
   "execution_count": 16,
   "metadata": {},
   "outputs": [
    {
     "data": {
      "text/html": [
       "<div>\n",
       "<style scoped>\n",
       "    .dataframe tbody tr th:only-of-type {\n",
       "        vertical-align: middle;\n",
       "    }\n",
       "\n",
       "    .dataframe tbody tr th {\n",
       "        vertical-align: top;\n",
       "    }\n",
       "\n",
       "    .dataframe thead th {\n",
       "        text-align: right;\n",
       "    }\n",
       "</style>\n",
       "<table border=\"1\" class=\"dataframe\">\n",
       "  <thead>\n",
       "    <tr style=\"text-align: right;\">\n",
       "      <th></th>\n",
       "      <th>Label</th>\n",
       "      <th>Text</th>\n",
       "    </tr>\n",
       "  </thead>\n",
       "  <tbody>\n",
       "    <tr>\n",
       "      <th>0</th>\n",
       "      <td>1</td>\n",
       "      <td>Four ways Bob Corker skewered Donald Trump Ima...</td>\n",
       "    </tr>\n",
       "    <tr>\n",
       "      <th>1</th>\n",
       "      <td>1</td>\n",
       "      <td>Linklater's war veteran comedy speaks to moder...</td>\n",
       "    </tr>\n",
       "    <tr>\n",
       "      <th>2</th>\n",
       "      <td>1</td>\n",
       "      <td>Trump’s Fight With Corker Jeopardizes His Legi...</td>\n",
       "    </tr>\n",
       "    <tr>\n",
       "      <th>3</th>\n",
       "      <td>1</td>\n",
       "      <td>Egypt's Cheiron wins tie-up with Pemex for Mex...</td>\n",
       "    </tr>\n",
       "    <tr>\n",
       "      <th>4</th>\n",
       "      <td>1</td>\n",
       "      <td>Jason Aldean opens 'SNL' with Vegas tribute Co...</td>\n",
       "    </tr>\n",
       "    <tr>\n",
       "      <th>5</th>\n",
       "      <td>0</td>\n",
       "      <td>JetNation FanDuel League; Week 4 JetNation Fan...</td>\n",
       "    </tr>\n",
       "    <tr>\n",
       "      <th>6</th>\n",
       "      <td>1</td>\n",
       "      <td>Kansas Tried a Tax Plan Similar to Trump’s. It...</td>\n",
       "    </tr>\n",
       "    <tr>\n",
       "      <th>7</th>\n",
       "      <td>1</td>\n",
       "      <td>India RBI chief: growth important, but not at ...</td>\n",
       "    </tr>\n",
       "    <tr>\n",
       "      <th>8</th>\n",
       "      <td>1</td>\n",
       "      <td>EPA chief to sign rule on Clean Power Plan exi...</td>\n",
       "    </tr>\n",
       "    <tr>\n",
       "      <th>9</th>\n",
       "      <td>1</td>\n",
       "      <td>Talks on sale of Air Berlin planes to easyJet ...</td>\n",
       "    </tr>\n",
       "  </tbody>\n",
       "</table>\n",
       "</div>"
      ],
      "text/plain": [
       "   Label                                               Text\n",
       "0      1  Four ways Bob Corker skewered Donald Trump Ima...\n",
       "1      1  Linklater's war veteran comedy speaks to moder...\n",
       "2      1  Trump’s Fight With Corker Jeopardizes His Legi...\n",
       "3      1  Egypt's Cheiron wins tie-up with Pemex for Mex...\n",
       "4      1  Jason Aldean opens 'SNL' with Vegas tribute Co...\n",
       "5      0  JetNation FanDuel League; Week 4 JetNation Fan...\n",
       "6      1  Kansas Tried a Tax Plan Similar to Trump’s. It...\n",
       "7      1  India RBI chief: growth important, but not at ...\n",
       "8      1  EPA chief to sign rule on Clean Power Plan exi...\n",
       "9      1  Talks on sale of Air Berlin planes to easyJet ..."
      ]
     },
     "execution_count": 16,
     "metadata": {},
     "output_type": "execute_result"
    }
   ],
   "source": [
    "to_drop= ['Headline', 'Body', 'Length']\n",
    "df.drop(to_drop, axis= 1, inplace= True)\n",
    "df.head(10)"
   ]
  },
  {
   "cell_type": "markdown",
   "metadata": {},
   "source": [
    "### STOPWORDS removal and Lemmatization"
   ]
  },
  {
   "cell_type": "code",
   "execution_count": 17,
   "metadata": {},
   "outputs": [],
   "source": [
    "from nltk import WordNetLemmatizer\n",
    "from nltk import PorterStemmer\n",
    "from nltk.corpus import stopwords"
   ]
  },
  {
   "cell_type": "code",
   "execution_count": 18,
   "metadata": {},
   "outputs": [
    {
     "name": "stderr",
     "output_type": "stream",
     "text": [
      "[nltk_data] Downloading package stopwords to\n",
      "[nltk_data]     C:\\Users\\aikan\\AppData\\Roaming\\nltk_data...\n",
      "[nltk_data]   Package stopwords is already up-to-date!\n",
      "[nltk_data] Downloading package wordnet to\n",
      "[nltk_data]     C:\\Users\\aikan\\AppData\\Roaming\\nltk_data...\n",
      "[nltk_data]   Package wordnet is already up-to-date!\n",
      "[nltk_data] Error loading wordcloud: Package 'wordcloud' not found in\n",
      "[nltk_data]     index\n"
     ]
    },
    {
     "data": {
      "text/plain": [
       "False"
      ]
     },
     "execution_count": 18,
     "metadata": {},
     "output_type": "execute_result"
    }
   ],
   "source": [
    "nltk.download('stopwords')\n",
    "nltk.download('wordnet')\n",
    "nltk.download('wordcloud')"
   ]
  },
  {
   "cell_type": "code",
   "execution_count": 19,
   "metadata": {},
   "outputs": [
    {
     "name": "stdout",
     "output_type": "stream",
     "text": [
      "['i', 'me', 'my', 'myself', 'we', 'our', 'ours', 'ourselves', 'you', \"you're\", \"you've\", \"you'll\", \"you'd\", 'your', 'yours', 'yourself', 'yourselves', 'he', 'him', 'his', 'himself', 'she', \"she's\", 'her', 'hers', 'herself', 'it', \"it's\", 'its', 'itself', 'they', 'them', 'their', 'theirs', 'themselves', 'what', 'which', 'who', 'whom', 'this', 'that', \"that'll\", 'these', 'those', 'am', 'is', 'are', 'was', 'were', 'be', 'been', 'being', 'have', 'has', 'had', 'having', 'do', 'does', 'did', 'doing', 'a', 'an', 'the', 'and', 'but', 'if', 'or', 'because', 'as', 'until', 'while', 'of', 'at', 'by', 'for', 'with', 'about', 'against', 'between', 'into', 'through', 'during', 'before', 'after', 'above', 'below', 'to', 'from', 'up', 'down', 'in', 'out', 'on', 'off', 'over', 'under', 'again', 'further', 'then', 'once', 'here', 'there', 'when', 'where', 'why', 'how', 'all', 'any', 'both', 'each', 'few', 'more', 'most', 'other', 'some', 'such', 'no', 'nor', 'not', 'only', 'own', 'same', 'so', 'than', 'too', 'very', 's', 't', 'can', 'will', 'just', 'don', \"don't\", 'should', \"should've\", 'now', 'd', 'll', 'm', 'o', 're', 've', 'y', 'ain', 'aren', \"aren't\", 'couldn', \"couldn't\", 'didn', \"didn't\", 'doesn', \"doesn't\", 'hadn', \"hadn't\", 'hasn', \"hasn't\", 'haven', \"haven't\", 'isn', \"isn't\", 'ma', 'mightn', \"mightn't\", 'mustn', \"mustn't\", 'needn', \"needn't\", 'shan', \"shan't\", 'shouldn', \"shouldn't\", 'wasn', \"wasn't\", 'weren', \"weren't\", 'won', \"won't\", 'wouldn', \"wouldn't\", 'would', 'could', 'one']\n"
     ]
    }
   ],
   "source": [
    "sw= stopwords.words('english')\n",
    "extras= [\"would\"]\n",
    "sw.append(\"would\")\n",
    "sw.append(\"could\")\n",
    "sw.append(\"one\")\n",
    "print(sw)"
   ]
  },
  {
   "cell_type": "code",
   "execution_count": 20,
   "metadata": {},
   "outputs": [],
   "source": [
    "lm = WordNetLemmatizer()\n",
    "def clean_text(column):\n",
    "    corpus = []\n",
    "    for value in column:\n",
    "        # convert each word into lower case\n",
    "        value = value.lower()\n",
    "        value = value.split()\n",
    "        # lemmatizing those words which are not stop words\n",
    "        value = [lm.lemmatize(word, pos=\"v\") for word in value if word not in sw]\n",
    "        corpus.append(' '.join(value))\n",
    "    return corpus    "
   ]
  },
  {
   "cell_type": "code",
   "execution_count": 21,
   "metadata": {},
   "outputs": [],
   "source": [
    "df['Text']= clean_text(df.Text)\n"
   ]
  },
  {
   "cell_type": "code",
   "execution_count": 22,
   "metadata": {},
   "outputs": [
    {
     "data": {
      "text/plain": [
       "\"egypt's cheiron win tie-up pemex mexican onshore oil field mexico city (reuters) - egypt’s cheiron hold limit right partner mexican national oil company pemex onshore cardenas-mora project, industry regulator say wednesday. tie-up mark second joint venture pemex equity partner since energy open finalize 2014 end company’s decades-long monopoly allow develop project private foreign oil companies. cardenas-mora 65-square-mile (168 sq km) field locate tabasco state believe contain 93 million barrel oil equivalent (boe) proven, probable possible reserves.\""
      ]
     },
     "execution_count": 22,
     "metadata": {},
     "output_type": "execute_result"
    }
   ],
   "source": [
    "## Checking a sample cleanup\n",
    "df.Text[3]"
   ]
  },
  {
   "cell_type": "markdown",
   "metadata": {},
   "source": [
    "### Custom exploring"
   ]
  },
  {
   "cell_type": "code",
   "execution_count": 23,
   "metadata": {},
   "outputs": [],
   "source": [
    "import re   # importing regular expression function\n",
    "def clean_data(input):\n",
    "    corpus=[]\n",
    "    for value in input:\n",
    "        value= value.lower()\n",
    "        value= re.sub(r'[^\\w\\s]','', value)\n",
    "        value= re.sub(r'[^a-zA-Z]',' ', value)\n",
    "        value= re.sub('aa[a]*','a', value)\n",
    "        value= re.sub(r\"http\\S+\", \"\", value)\n",
    "        value = re.sub(r'\\<a href', ' ', value)\n",
    "        value = re.sub(r'[_\"\\;%()|+&=*%.,!?:#$@\\[\\]/]', ' ', value)\n",
    "        value= re.sub('-', ' ', value)\n",
    "        value= re.sub('\\d+', '', value)\n",
    "        value= re.sub('\\s\\s+',' ', value)\n",
    "        value= re.sub('\\n', '', value)\n",
    "        value= re.sub('<[^>]*>', '', value)\n",
    "        corpus.append(''.join(value))\n",
    "    return corpus\n"
   ]
  },
  {
   "cell_type": "code",
   "execution_count": 24,
   "metadata": {},
   "outputs": [],
   "source": [
    "df['Text']=clean_data(df.Text)\n"
   ]
  },
  {
   "cell_type": "code",
   "execution_count": 25,
   "metadata": {},
   "outputs": [
    {
     "data": {
      "text/plain": [
       "'egypts cheiron win tieup pemex mexican onshore oil field mexico city reuters egypts cheiron hold limit right partner mexican national oil company pemex onshore cardenasmora project industry regulator say wednesday tieup mark second joint venture pemex equity partner since energy open finalize end companys decadeslong monopoly allow develop project private foreign oil companies cardenasmora squaremile sq km field locate tabasco state believe contain million barrel oil equivalent boe proven probable possible reserves'"
      ]
     },
     "execution_count": 25,
     "metadata": {},
     "output_type": "execute_result"
    }
   ],
   "source": [
    "##Sample checking\n",
    "df.Text[3]"
   ]
  },
  {
   "cell_type": "markdown",
   "metadata": {},
   "source": [
    "### Visualization using WORD CLOUD"
   ]
  },
  {
   "cell_type": "code",
   "execution_count": 26,
   "metadata": {},
   "outputs": [
    {
     "name": "stdout",
     "output_type": "stream",
     "text": [
      "Requirement already satisfied: wordcloud in c:\\users\\aikan\\anaconda3\\lib\\site-packages (1.8.1)\n",
      "Requirement already satisfied: matplotlib in c:\\users\\aikan\\anaconda3\\lib\\site-packages (from wordcloud) (3.4.3)\n",
      "Requirement already satisfied: numpy>=1.6.1 in c:\\users\\aikan\\anaconda3\\lib\\site-packages (from wordcloud) (1.20.3)\n",
      "Requirement already satisfied: pillow in c:\\users\\aikan\\anaconda3\\lib\\site-packages (from wordcloud) (8.4.0)\n",
      "Requirement already satisfied: python-dateutil>=2.7 in c:\\users\\aikan\\anaconda3\\lib\\site-packages (from matplotlib->wordcloud) (2.8.2)\n",
      "Requirement already satisfied: pyparsing>=2.2.1 in c:\\users\\aikan\\anaconda3\\lib\\site-packages (from matplotlib->wordcloud) (3.0.4)\n",
      "Requirement already satisfied: cycler>=0.10 in c:\\users\\aikan\\anaconda3\\lib\\site-packages (from matplotlib->wordcloud) (0.10.0)\n",
      "Requirement already satisfied: kiwisolver>=1.0.1 in c:\\users\\aikan\\anaconda3\\lib\\site-packages (from matplotlib->wordcloud) (1.3.1)\n",
      "Requirement already satisfied: six in c:\\users\\aikan\\anaconda3\\lib\\site-packages (from cycler>=0.10->matplotlib->wordcloud) (1.16.0)\n"
     ]
    }
   ],
   "source": [
    "!pip install wordcloud"
   ]
  },
  {
   "cell_type": "code",
   "execution_count": 27,
   "metadata": {},
   "outputs": [],
   "source": [
    "from wordcloud import WordCloud, STOPWORDS , ImageColorGenerator\n",
    "fake_news = df[df.Label == 0]\n",
    "real_news = df[df.Label == 1]"
   ]
  },
  {
   "cell_type": "code",
   "execution_count": 28,
   "metadata": {},
   "outputs": [
    {
     "data": {
      "image/png": "[encoded data removed]",
      "text/plain": [
       "<Figure size 864x432 with 1 Axes>"
      ]
     },
     "metadata": {
      "needs_background": "light"
     },
     "output_type": "display_data"
    }
   ],
   "source": [
    "# wordcloud for fake news\n",
    "fake_wc = WordCloud(width = 600, height = 400, \n",
    "                    background_color ='black', \n",
    "                    stopwords = stopwords.words('english'), \n",
    "                    min_font_size = 10).generate(' '.join(fake_news.Text)) \n",
    "# plot the WordCloud image                        \n",
    "plt.figure(figsize = (12, 6), facecolor = None) \n",
    "plt.imshow(fake_wc) \n",
    "plt.axis(\"off\") \n",
    "plt.tight_layout(pad = 0) \n",
    "plt.title('Word Cloud for fake news', fontsize=20);"
   ]
  },
  {
   "cell_type": "code",
   "execution_count": 29,
   "metadata": {},
   "outputs": [
    {
     "data": {
      "image/png": "[encoded data removed]",
      "text/plain": [
       "<Figure size 864x432 with 1 Axes>"
      ]
     },
     "metadata": {
      "needs_background": "light"
     },
     "output_type": "display_data"
    }
   ],
   "source": [
    "# wordcloud for REAL news\n",
    "real_wc = WordCloud(width = 600, height = 400, \n",
    "                    background_color ='black', \n",
    "                    stopwords = stopwords.words('english'), \n",
    "                    min_font_size = 10).generate(' '.join(real_news.Text)) \n",
    "  \n",
    "# plot the WordCloud image                        \n",
    "plt.figure(figsize = (12, 6), facecolor = None) \n",
    "plt.imshow(real_wc) \n",
    "plt.axis(\"off\") \n",
    "plt.tight_layout(pad = 0) \n",
    "plt.title('Word Cloud for real news', fontsize=20);"
   ]
  },
  {
   "cell_type": "markdown",
   "metadata": {},
   "source": [
    "### Train-Test_Split"
   ]
  },
  {
   "cell_type": "code",
   "execution_count": 30,
   "metadata": {},
   "outputs": [],
   "source": [
    "from sklearn.model_selection import train_test_split\n",
    "(X_train, X_test, y_train, y_test)= train_test_split(df['Text'], df['Label'], test_size= 0.33, random_state= 0, stratify=df['Label'])"
   ]
  },
  {
   "cell_type": "code",
   "execution_count": 31,
   "metadata": {},
   "outputs": [
    {
     "data": {
      "text/plain": [
       "((2671,), (1317,), (2671,), (1317,))"
      ]
     },
     "execution_count": 31,
     "metadata": {},
     "output_type": "execute_result"
    }
   ],
   "source": [
    "X_train.shape, X_test.shape, y_train.shape, y_test.shape"
   ]
  },
  {
   "cell_type": "markdown",
   "metadata": {},
   "source": [
    "## Count Vectorizer / Bag of Words "
   ]
  },
  {
   "cell_type": "code",
   "execution_count": 32,
   "metadata": {},
   "outputs": [],
   "source": [
    "from sklearn.feature_extraction.text import CountVectorizer\n",
    "cv= CountVectorizer()\n",
    "X_train_cv= cv.fit_transform(X_train)\n",
    "X_test_cv= cv.transform(X_test)"
   ]
  },
  {
   "cell_type": "markdown",
   "metadata": {},
   "source": [
    "### getting feature values and feature names"
   ]
  },
  {
   "cell_type": "code",
   "execution_count": 33,
   "metadata": {},
   "outputs": [
    {
     "data": {
      "text/plain": [
       "['ab',\n",
       " 'aba',\n",
       " 'ababacar',\n",
       " 'aback',\n",
       " 'abadi',\n",
       " 'abadis',\n",
       " 'abandon',\n",
       " 'abandoned',\n",
       " 'abandonment',\n",
       " 'abaqus',\n",
       " 'abate',\n",
       " 'abating',\n",
       " 'abattoir',\n",
       " 'abaya',\n",
       " 'abb',\n",
       " 'abbado',\n",
       " 'abbas',\n",
       " 'abbatevia',\n",
       " 'abbattoir',\n",
       " 'abbey',\n",
       " 'abbeystyle',\n",
       " 'abbie',\n",
       " 'abbott',\n",
       " 'abbotts',\n",
       " 'abbreviate',\n",
       " 'abbvie',\n",
       " 'abbvies',\n",
       " 'abby',\n",
       " 'abbys',\n",
       " 'abc',\n",
       " 'abcnews',\n",
       " 'abcs',\n",
       " 'abdallah',\n",
       " 'abdel',\n",
       " 'abdelaty',\n",
       " 'abdelaziz',\n",
       " 'abdelkader',\n",
       " 'abdelmalek',\n",
       " 'abdomen',\n",
       " 'abdomens',\n",
       " 'abdominal',\n",
       " 'abdrabbu',\n",
       " 'abduba',\n",
       " 'abduct',\n",
       " 'abducted',\n",
       " 'abduction',\n",
       " 'abductions',\n",
       " 'abdul',\n",
       " 'abdulaziz',\n",
       " 'abdulhamit',\n",
       " 'abduljabbar',\n",
       " 'abdullah',\n",
       " 'abdullahfile',\n",
       " 'abdulrahman',\n",
       " 'abe',\n",
       " 'abel',\n",
       " 'abell',\n",
       " 'abemaciclib',\n",
       " 'abemc',\n",
       " 'abenomics',\n",
       " 'aberavon',\n",
       " 'aberdeen',\n",
       " 'aberrant',\n",
       " 'aberration',\n",
       " 'abertis',\n",
       " 'abertiss',\n",
       " 'abes',\n",
       " 'abet',\n",
       " 'abfl',\n",
       " 'abhor',\n",
       " 'abhorrent',\n",
       " 'abibr',\n",
       " 'abide',\n",
       " 'abidifile',\n",
       " 'abigail',\n",
       " 'abilities',\n",
       " 'ability',\n",
       " 'abingdon',\n",
       " 'abject',\n",
       " 'abkarian',\n",
       " 'able',\n",
       " 'ably',\n",
       " 'abnormal',\n",
       " 'abnormality',\n",
       " 'abnormally',\n",
       " 'aboard',\n",
       " 'abolish',\n",
       " 'abolished',\n",
       " 'abominable',\n",
       " 'abomination',\n",
       " 'abort',\n",
       " 'aborted',\n",
       " 'abortion',\n",
       " 'abortions',\n",
       " 'abou',\n",
       " 'aboulenein',\n",
       " 'abound',\n",
       " 'abounds',\n",
       " 'about',\n",
       " 'aboutface',\n",
       " 'aboutme',\n",
       " 'aboutthe',\n",
       " 'above',\n",
       " 'aboveboard',\n",
       " 'aboveif',\n",
       " 'abovementioned',\n",
       " 'abovetheknee',\n",
       " 'abraham',\n",
       " 'abrahams',\n",
       " 'abrahms',\n",
       " 'abreg',\n",
       " 'abreu',\n",
       " 'abroad',\n",
       " 'abrogated',\n",
       " 'abrupt',\n",
       " 'abruptly',\n",
       " 'absa',\n",
       " 'absence',\n",
       " 'absences',\n",
       " 'absent',\n",
       " 'absentees',\n",
       " 'absolute',\n",
       " 'absolutely',\n",
       " 'absorb',\n",
       " 'abstain',\n",
       " 'abstaining',\n",
       " 'abstentions',\n",
       " 'abstract',\n",
       " 'abstraction',\n",
       " 'absurd',\n",
       " 'absurdand',\n",
       " 'absurdity',\n",
       " 'absurdly',\n",
       " 'abt',\n",
       " 'abu',\n",
       " 'abuelo',\n",
       " 'abuelos',\n",
       " 'abuja',\n",
       " 'abulfazl',\n",
       " 'abundance',\n",
       " 'abundant',\n",
       " 'abundantly',\n",
       " 'abuse',\n",
       " 'abused',\n",
       " 'abusedstarved',\n",
       " 'abuser',\n",
       " 'abusers',\n",
       " 'abuses',\n",
       " 'abusing',\n",
       " 'abusive',\n",
       " 'abut',\n",
       " 'aby',\n",
       " 'abyan',\n",
       " 'abysmal',\n",
       " 'abysmally',\n",
       " 'abyss',\n",
       " 'ac',\n",
       " 'aca',\n",
       " 'academia',\n",
       " 'academic',\n",
       " 'academicians',\n",
       " 'academics',\n",
       " 'academies',\n",
       " 'academy',\n",
       " 'academys',\n",
       " 'acambis',\n",
       " 'acast',\n",
       " 'acc',\n",
       " 'accannouncesgametimesnetworksforoctober',\n",
       " 'accc',\n",
       " 'accelerate',\n",
       " 'accelerator',\n",
       " 'accent',\n",
       " 'accentuate',\n",
       " 'accept',\n",
       " 'acceptable',\n",
       " 'acceptance',\n",
       " 'accepted',\n",
       " 'accepting',\n",
       " 'access',\n",
       " 'accessed',\n",
       " 'accessibility',\n",
       " 'accessible',\n",
       " 'accession',\n",
       " 'accessories',\n",
       " 'accessory',\n",
       " 'accident',\n",
       " 'accidental',\n",
       " 'accidentally',\n",
       " 'accidently',\n",
       " 'accidents',\n",
       " 'acclaim',\n",
       " 'accnation',\n",
       " 'accnetworkheadedtobristolandotheraccnetworknotes',\n",
       " 'accolade',\n",
       " 'accolades',\n",
       " 'accommodate',\n",
       " 'accommodation',\n",
       " 'accommodations',\n",
       " 'accompaniment',\n",
       " 'accompanist',\n",
       " 'accompany',\n",
       " 'accomplice',\n",
       " 'accomplices',\n",
       " 'accomplish',\n",
       " 'accomplished',\n",
       " 'accomplishment',\n",
       " 'accomplishments',\n",
       " 'accor',\n",
       " 'accord',\n",
       " 'accordance',\n",
       " 'according',\n",
       " 'accordingly',\n",
       " 'accors',\n",
       " 'accost',\n",
       " 'account',\n",
       " 'accountability',\n",
       " 'accountable',\n",
       " 'accountancy',\n",
       " 'accountant',\n",
       " 'accounts',\n",
       " 'accra',\n",
       " 'accredit',\n",
       " 'accreditation',\n",
       " 'accrue',\n",
       " 'accs',\n",
       " 'accumulate',\n",
       " 'accumulated',\n",
       " 'accumulates',\n",
       " 'accuracy',\n",
       " 'accurate',\n",
       " 'accurately',\n",
       " 'accusation',\n",
       " 'accusations',\n",
       " 'accuse',\n",
       " 'accused',\n",
       " 'accusers',\n",
       " 'accustom',\n",
       " 'ace',\n",
       " 'acefan',\n",
       " 'acelike',\n",
       " 'acerbic',\n",
       " 'aces',\n",
       " 'acevedo',\n",
       " 'acftp',\n",
       " 'acharya',\n",
       " 'ache',\n",
       " 'ached',\n",
       " 'achievable',\n",
       " 'achieve',\n",
       " 'achieved',\n",
       " 'achievement',\n",
       " 'achievements',\n",
       " 'achieving',\n",
       " 'achilles',\n",
       " 'achterhuis',\n",
       " 'acid',\n",
       " 'acidic',\n",
       " 'acids',\n",
       " 'acitretin',\n",
       " 'acker',\n",
       " 'ackerman',\n",
       " 'acknowledge',\n",
       " 'acknowledged',\n",
       " 'acknowledgement',\n",
       " 'acknowledgment',\n",
       " 'acknowledgments',\n",
       " 'acl',\n",
       " 'aclu',\n",
       " 'aclus',\n",
       " 'acnespecked',\n",
       " 'acolyte',\n",
       " 'acolytes',\n",
       " 'acosta',\n",
       " 'acoustic',\n",
       " 'acoustics',\n",
       " 'acquaintance',\n",
       " 'acquaintances',\n",
       " 'acquiesce',\n",
       " 'acquiescence',\n",
       " 'acquire',\n",
       " 'acquired',\n",
       " 'acquisition',\n",
       " 'acquisitionhungry',\n",
       " 'acquisitions',\n",
       " 'acquit',\n",
       " 'acquittal',\n",
       " 'acre',\n",
       " 'acres',\n",
       " 'acrimonious',\n",
       " 'acrobatic',\n",
       " 'acronym',\n",
       " 'acronyms',\n",
       " 'across',\n",
       " 'acrosstheboard',\n",
       " 'acs',\n",
       " 'acsmc',\n",
       " 'act',\n",
       " 'acta',\n",
       " 'acted',\n",
       " 'acting',\n",
       " 'action',\n",
       " 'actionable',\n",
       " 'actions',\n",
       " 'activate',\n",
       " 'activated',\n",
       " 'activations',\n",
       " 'active',\n",
       " 'actively',\n",
       " 'activision',\n",
       " 'activism',\n",
       " 'activist',\n",
       " 'activistpost',\n",
       " 'activistpostcom',\n",
       " 'activists',\n",
       " 'activities',\n",
       " 'activity',\n",
       " 'actnot',\n",
       " 'actor',\n",
       " 'actorly',\n",
       " 'actors',\n",
       " 'actress',\n",
       " 'actresses',\n",
       " 'actresss',\n",
       " 'acts',\n",
       " 'actual',\n",
       " 'actually',\n",
       " 'acute',\n",
       " 'acutely',\n",
       " 'ad',\n",
       " 'ada',\n",
       " 'adaca',\n",
       " 'adage',\n",
       " 'adagio',\n",
       " 'adam',\n",
       " 'adamant',\n",
       " 'adamantly',\n",
       " 'adamczyk',\n",
       " 'adamczyks',\n",
       " 'adams',\n",
       " 'adamschefter',\n",
       " 'adamss',\n",
       " 'adana',\n",
       " 'adapt',\n",
       " 'adaptable',\n",
       " 'adaptation',\n",
       " 'adapted',\n",
       " 'adaybynhtsainairbaginvestigationhtml',\n",
       " 'add',\n",
       " 'added',\n",
       " 'addedeveryone',\n",
       " 'adderall',\n",
       " 'addicks',\n",
       " 'addict',\n",
       " 'addiction',\n",
       " 'addictions',\n",
       " 'addictive',\n",
       " 'addicts',\n",
       " 'adding',\n",
       " 'addison',\n",
       " 'addition',\n",
       " 'additional',\n",
       " 'additionally',\n",
       " 'additions',\n",
       " 'additives',\n",
       " 'additonal',\n",
       " 'address',\n",
       " 'addressed',\n",
       " 'addresses',\n",
       " 'addressing',\n",
       " 'adds',\n",
       " 'addtional',\n",
       " 'adeel',\n",
       " 'adel',\n",
       " 'adelaide',\n",
       " 'adelaidesydney',\n",
       " 'adele',\n",
       " 'adelson',\n",
       " 'aden',\n",
       " 'adenauer',\n",
       " 'adequate',\n",
       " 'adequately',\n",
       " 'aderski',\n",
       " 'adf',\n",
       " 'adfree',\n",
       " 'adhd',\n",
       " 'adhdlike',\n",
       " 'adhere',\n",
       " 'adherence',\n",
       " 'adi',\n",
       " 'adidas',\n",
       " 'adieu',\n",
       " 'adios',\n",
       " 'adirondack',\n",
       " 'adirondacks',\n",
       " 'adirondackstyle',\n",
       " 'adjacent',\n",
       " 'adjective',\n",
       " 'adjoin',\n",
       " 'adjudicate',\n",
       " 'adjudicated',\n",
       " 'adjudication',\n",
       " 'adjudications',\n",
       " 'adjunct',\n",
       " 'adjust',\n",
       " 'adjustablecollapsible',\n",
       " 'adjustment',\n",
       " 'adjustments',\n",
       " 'adjutant',\n",
       " 'adjuvant',\n",
       " 'adjxohfb',\n",
       " 'adk',\n",
       " 'adkins',\n",
       " 'adks',\n",
       " 'adle',\n",
       " 'adler',\n",
       " 'adm',\n",
       " 'administer',\n",
       " 'administrate',\n",
       " 'administration',\n",
       " 'administrations',\n",
       " 'administrationwere',\n",
       " 'administrationwide',\n",
       " 'administrative',\n",
       " 'administrator',\n",
       " 'administrators',\n",
       " 'admins',\n",
       " 'admirable',\n",
       " 'admiral',\n",
       " 'admirals',\n",
       " 'admiralty',\n",
       " 'admiration',\n",
       " 'admire',\n",
       " 'admirer',\n",
       " 'admirers',\n",
       " 'admission',\n",
       " 'admissions',\n",
       " 'admit',\n",
       " 'admits',\n",
       " 'admitted',\n",
       " 'admonish',\n",
       " 'admonishment',\n",
       " 'adnkronos',\n",
       " 'ado',\n",
       " 'adobo',\n",
       " 'adola',\n",
       " 'adolescence',\n",
       " 'adolescent',\n",
       " 'adolescents',\n",
       " 'adolf',\n",
       " 'adopt',\n",
       " 'adopted',\n",
       " 'adoption',\n",
       " 'adoptive',\n",
       " 'adorable',\n",
       " 'adore',\n",
       " 'adorn',\n",
       " 'adot',\n",
       " 'adp',\n",
       " 'adrenaline',\n",
       " 'adrian',\n",
       " 'adriana',\n",
       " 'adriano',\n",
       " 'adrien',\n",
       " 'adrift',\n",
       " 'ads',\n",
       " 'adsit',\n",
       " 'adulation',\n",
       " 'adult',\n",
       " 'adulterants',\n",
       " 'adulterous',\n",
       " 'adultery',\n",
       " 'adulthood',\n",
       " 'adults',\n",
       " 'adultswim',\n",
       " 'advance',\n",
       " 'advanced',\n",
       " 'advancement',\n",
       " 'advancements',\n",
       " 'advances',\n",
       " 'advantage',\n",
       " 'advantageous',\n",
       " 'advantages',\n",
       " 'advent',\n",
       " 'adventure',\n",
       " 'adventurer',\n",
       " 'adventures',\n",
       " 'adventurous',\n",
       " 'adversarial',\n",
       " 'adversaries',\n",
       " 'adversary',\n",
       " 'adverse',\n",
       " 'adversely',\n",
       " 'adversity',\n",
       " 'advert',\n",
       " 'advertise',\n",
       " 'advertised',\n",
       " 'advertisement',\n",
       " 'advertisements',\n",
       " 'advertiser',\n",
       " 'advertisers',\n",
       " 'advertising',\n",
       " 'adverts',\n",
       " 'advice',\n",
       " 'advisable',\n",
       " 'advise',\n",
       " 'advised',\n",
       " 'adviser',\n",
       " 'advisers',\n",
       " 'advisor',\n",
       " 'advisors',\n",
       " 'advisory',\n",
       " 'advocacy',\n",
       " 'advocate',\n",
       " 'advocates',\n",
       " 'advocating',\n",
       " 'ae',\n",
       " 'aec',\n",
       " 'aecio',\n",
       " 'aeg',\n",
       " 'aegis',\n",
       " 'aerate',\n",
       " 'aereophotography',\n",
       " 'aerial',\n",
       " 'aero',\n",
       " 'aeromobil',\n",
       " 'aeronautics',\n",
       " 'aerosmith',\n",
       " 'aerosol',\n",
       " 'aerosols',\n",
       " 'aerospace',\n",
       " 'aesthetic',\n",
       " 'af',\n",
       " 'afa',\n",
       " 'afar',\n",
       " 'afb',\n",
       " 'afbranco',\n",
       " 'afc',\n",
       " 'afcn',\n",
       " 'afd',\n",
       " 'afds',\n",
       " 'afe',\n",
       " 'affable',\n",
       " 'affadl',\n",
       " 'affair',\n",
       " 'affairs',\n",
       " 'affect',\n",
       " 'affectations',\n",
       " 'affected',\n",
       " 'affection',\n",
       " 'affidavit',\n",
       " 'affiliate',\n",
       " 'affiliation',\n",
       " 'affiliations',\n",
       " 'affinities',\n",
       " 'affinity',\n",
       " 'affirm',\n",
       " 'affirmation',\n",
       " 'affirmatively',\n",
       " 'affix',\n",
       " 'affleck',\n",
       " 'afflict',\n",
       " 'affluence',\n",
       " 'affluent',\n",
       " 'afford',\n",
       " 'affordability',\n",
       " 'affordable',\n",
       " 'affront',\n",
       " 'afghan',\n",
       " 'afghanistan',\n",
       " 'afghanistanpakistan',\n",
       " 'afghanistans',\n",
       " 'afghanpakistan',\n",
       " 'aficionado',\n",
       " 'afire',\n",
       " 'afloat',\n",
       " 'afoot',\n",
       " 'aforementioned',\n",
       " 'afoul',\n",
       " 'afp',\n",
       " 'afpat',\n",
       " 'afpgetty',\n",
       " 'afraid',\n",
       " 'africa',\n",
       " 'african',\n",
       " 'africanamerican',\n",
       " 'africanamericans',\n",
       " 'africancaribbean',\n",
       " 'africans',\n",
       " 'africas',\n",
       " 'africom',\n",
       " 'aft',\n",
       " 'after',\n",
       " 'aftereffects',\n",
       " 'afterglow',\n",
       " 'afterlife',\n",
       " 'aftermath',\n",
       " 'afternoon',\n",
       " 'afternoonevening',\n",
       " 'afterparty',\n",
       " 'aftershocks',\n",
       " 'aftertax',\n",
       " 'afterthought',\n",
       " 'aftertreatment',\n",
       " 'afterward',\n",
       " 'afterwards',\n",
       " 'afterwork',\n",
       " 'afyonkarahisar',\n",
       " 'ag',\n",
       " 'agadez',\n",
       " 'again',\n",
       " 'againbut',\n",
       " 'against',\n",
       " 'againstand',\n",
       " 'agarwal',\n",
       " 'agbey',\n",
       " 'agca',\n",
       " 'agde',\n",
       " 'age',\n",
       " 'agence',\n",
       " 'agencia',\n",
       " 'agencies',\n",
       " 'agenciescollude',\n",
       " 'agency',\n",
       " 'agencyhandout',\n",
       " 'agencymajid',\n",
       " 'agencys',\n",
       " 'agenda',\n",
       " 'agendas',\n",
       " 'agendasetting',\n",
       " 'agent',\n",
       " 'agents',\n",
       " 'ages',\n",
       " 'aggett',\n",
       " 'aggies',\n",
       " 'aggravate',\n",
       " 'aggregate',\n",
       " 'aggregation',\n",
       " 'aggression',\n",
       " 'aggressive',\n",
       " 'aggressively',\n",
       " 'aggressiveness',\n",
       " 'aggressor',\n",
       " 'aggrieve',\n",
       " 'aggrivated',\n",
       " 'agholor',\n",
       " 'agile',\n",
       " 'agility',\n",
       " 'aging',\n",
       " 'agitate',\n",
       " 'agitation',\n",
       " 'agitator',\n",
       " 'aglow',\n",
       " 'agm',\n",
       " 'agnieszka',\n",
       " 'agnifilo',\n",
       " 'agnostus',\n",
       " 'ago',\n",
       " 'agonize',\n",
       " 'agony',\n",
       " 'agorist',\n",
       " 'agree',\n",
       " 'agreeable',\n",
       " 'agreed',\n",
       " 'agreejimmy',\n",
       " 'agreement',\n",
       " 'agreements',\n",
       " 'agrees',\n",
       " 'agresta',\n",
       " 'agrestas',\n",
       " 'agri',\n",
       " 'agricultural',\n",
       " 'agriculturalists',\n",
       " 'agriculture',\n",
       " 'agrifoods',\n",
       " 'agrigento',\n",
       " 'agronomists',\n",
       " 'aground',\n",
       " 'agu',\n",
       " 'agualusa',\n",
       " 'aguayo',\n",
       " 'aguero',\n",
       " 'aguilar',\n",
       " 'aguirre',\n",
       " 'agung',\n",
       " 'agungs',\n",
       " 'agut',\n",
       " 'ah',\n",
       " 'ahammsportsgeek',\n",
       " 'ahand',\n",
       " 'ahas',\n",
       " 'ahead',\n",
       " 'ahh',\n",
       " 'ahhhh',\n",
       " 'ahhs',\n",
       " 'ahkeem',\n",
       " 'ahl',\n",
       " 'ahlers',\n",
       " 'ahli',\n",
       " 'ahmad',\n",
       " 'ahmads',\n",
       " 'ahmed',\n",
       " 'ahmedabad',\n",
       " 'ahmet',\n",
       " 'ahn',\n",
       " 'ahr',\n",
       " 'ahs',\n",
       " 'ahve',\n",
       " 'ahvohjij',\n",
       " 'ai',\n",
       " 'aiba',\n",
       " 'aibas',\n",
       " 'aibonito',\n",
       " 'aicubjlud',\n",
       " 'aid',\n",
       " 'aidan',\n",
       " 'aide',\n",
       " 'aided',\n",
       " 'aiden',\n",
       " 'aides',\n",
       " 'aids',\n",
       " 'aidsrelated',\n",
       " 'aidy',\n",
       " 'ail',\n",
       " 'ailes',\n",
       " 'ailment',\n",
       " 'aim',\n",
       " 'aimagei',\n",
       " 'aimageia',\n",
       " 'aimageibe',\n",
       " 'aimageid',\n",
       " 'aimageidc',\n",
       " 'aimageie',\n",
       " 'aimageiede',\n",
       " 'aimageif',\n",
       " 'aimageifa',\n",
       " 'aimageifb',\n",
       " 'aimee',\n",
       " 'aims',\n",
       " 'aina',\n",
       " 'aint',\n",
       " 'air',\n",
       " 'airasia',\n",
       " 'airbag',\n",
       " 'airbags',\n",
       " 'airbase',\n",
       " 'airbnb',\n",
       " 'airboat',\n",
       " 'airborne',\n",
       " 'airbrush',\n",
       " 'airbrushing',\n",
       " 'airbus',\n",
       " 'aircasts',\n",
       " 'aircondition',\n",
       " 'airconditioning',\n",
       " 'aircraft',\n",
       " 'aircrafts',\n",
       " 'aircraporg',\n",
       " 'aired',\n",
       " 'aires',\n",
       " 'airfield',\n",
       " 'airfpa',\n",
       " 'airglow',\n",
       " 'airlift',\n",
       " 'airline',\n",
       " 'airliner',\n",
       " 'airliners',\n",
       " 'airlines',\n",
       " 'airmen',\n",
       " 'airpa',\n",
       " 'airplane',\n",
       " 'airplanes',\n",
       " 'airplay',\n",
       " 'airport',\n",
       " 'airports',\n",
       " 'airshow',\n",
       " 'airspace',\n",
       " 'airstrike',\n",
       " 'airstrikes',\n",
       " 'airtime',\n",
       " 'airtoground',\n",
       " 'airtraffic',\n",
       " 'airwaves',\n",
       " 'airway',\n",
       " 'airways',\n",
       " 'airy',\n",
       " 'aishwarya',\n",
       " 'aisle',\n",
       " 'aisles',\n",
       " 'aisyah',\n",
       " 'aisyahs',\n",
       " 'aizhu',\n",
       " 'aj',\n",
       " 'ajax',\n",
       " 'ajay',\n",
       " 'ajayi',\n",
       " 'ajc',\n",
       " 'ajeet',\n",
       " 'ajit',\n",
       " 'ajjan',\n",
       " 'ajmal',\n",
       " 'ajph',\n",
       " 'ak',\n",
       " 'aka',\n",
       " 'akash',\n",
       " 'akbar',\n",
       " 'akbor',\n",
       " 'akborgulsara',\n",
       " 'akeel',\n",
       " 'akeem',\n",
       " 'akers',\n",
       " 'akhtar',\n",
       " 'akiem',\n",
       " 'akihiro',\n",
       " 'akiko',\n",
       " 'akin',\n",
       " 'akinfeev',\n",
       " 'akros',\n",
       " 'aksam',\n",
       " 'aksel',\n",
       " 'akstyle',\n",
       " 'aktasprime',\n",
       " 'akufoaddo',\n",
       " 'akunyili',\n",
       " 'akwiri',\n",
       " 'al',\n",
       " 'ala',\n",
       " 'alabadi',\n",
       " 'alabadis',\n",
       " 'alabai',\n",
       " 'alabama',\n",
       " 'alabamas',\n",
       " 'alabamian',\n",
       " 'alabamians',\n",
       " 'alabidine',\n",
       " 'alahmad',\n",
       " 'alahmed',\n",
       " 'alajmal',\n",
       " 'alalagi',\n",
       " 'alalaqi',\n",
       " 'alammu',\n",
       " 'alammus',\n",
       " 'alan',\n",
       " 'alana',\n",
       " 'alanis',\n",
       " 'alarm',\n",
       " 'alarming',\n",
       " 'alarmingly',\n",
       " 'alarms',\n",
       " 'alarouri',\n",
       " 'alaruri',\n",
       " 'alaryan',\n",
       " 'alas',\n",
       " 'alaska',\n",
       " 'alaskan',\n",
       " 'alaskans',\n",
       " 'alaskas',\n",
       " 'alassad',\n",
       " 'alassads',\n",
       " 'alastair',\n",
       " 'alay',\n",
       " 'albaghdadi',\n",
       " 'albahlul',\n",
       " 'albakr',\n",
       " 'albania',\n",
       " 'albardawil',\n",
       " 'albatross',\n",
       " 'albayrak',\n",
       " 'albedo',\n",
       " 'albeit',\n",
       " 'alber',\n",
       " 'albert',\n",
       " 'alberta',\n",
       " 'alberth',\n",
       " 'alberto',\n",
       " 'albies',\n",
       " 'albiol',\n",
       " 'albion',\n",
       " 'albouy',\n",
       " 'album',\n",
       " 'albums',\n",
       " 'albuquerque',\n",
       " 'alchemy',\n",
       " 'alckmin',\n",
       " 'alcohol',\n",
       " 'alcoholfueled',\n",
       " 'alcoholic',\n",
       " 'alcoholism',\n",
       " 'alcon',\n",
       " 'alcs',\n",
       " 'aldabashi',\n",
       " 'aldarbi',\n",
       " 'aldcs',\n",
       " 'aldean',\n",
       " 'aldeans',\n",
       " 'aldeon',\n",
       " 'alderson',\n",
       " 'alderweireld',\n",
       " 'aldi',\n",
       " 'aldo',\n",
       " 'aldrick',\n",
       " 'alds',\n",
       " 'alec',\n",
       " 'aledo',\n",
       " 'aleem',\n",
       " 'alegre',\n",
       " 'aleida',\n",
       " 'alejandro',\n",
       " 'aleksandar',\n",
       " 'aleksei',\n",
       " 'alen',\n",
       " 'aleppo',\n",
       " 'alerigi',\n",
       " 'alert',\n",
       " 'alerted',\n",
       " 'alertness',\n",
       " 'alesky',\n",
       " 'alessandra',\n",
       " 'alex',\n",
       " 'alexa',\n",
       " 'alexander',\n",
       " 'alexandermurray',\n",
       " 'alexandr',\n",
       " 'alexandra',\n",
       " 'alexandre',\n",
       " 'alexandros',\n",
       " 'alexei',\n",
       " 'alexi',\n",
       " 'alexievich',\n",
       " 'alexis',\n",
       " 'alexradow',\n",
       " 'alexs',\n",
       " 'alfaisal',\n",
       " 'alfarra',\n",
       " 'alfashir',\n",
       " 'alfetori',\n",
       " 'alfie',\n",
       " 'alford',\n",
       " 'alfred',\n",
       " 'alfredo',\n",
       " 'alfresco',\n",
       " 'algae',\n",
       " 'algebra',\n",
       " 'algeria',\n",
       " 'algerian',\n",
       " 'algerias',\n",
       " 'alghanem',\n",
       " 'algharabili',\n",
       " 'algharbi',\n",
       " 'algiers',\n",
       " 'algonquin',\n",
       " 'algorithm',\n",
       " 'algorithmdriven',\n",
       " 'algorithms',\n",
       " 'alhadi',\n",
       " 'alhambra',\n",
       " 'alhashimi',\n",
       " 'alhazmi',\n",
       " 'alhussayen',\n",
       " 'ali',\n",
       " 'aliases',\n",
       " 'alibaba',\n",
       " 'alibabas',\n",
       " 'alicante',\n",
       " 'alice',\n",
       " 'alicia',\n",
       " 'alie',\n",
       " 'alien',\n",
       " 'alienate',\n",
       " 'alienating',\n",
       " 'alienlike',\n",
       " 'aliens',\n",
       " 'align',\n",
       " 'aligncenter',\n",
       " 'aligned',\n",
       " 'alike',\n",
       " 'aliment',\n",
       " 'alimentarius',\n",
       " 'alioune',\n",
       " 'alipay',\n",
       " 'alire',\n",
       " 'alislam',\n",
       " 'aliso',\n",
       " 'alison',\n",
       " 'alist',\n",
       " 'alistair',\n",
       " 'alitalia',\n",
       " 'alive',\n",
       " 'alize',\n",
       " 'aljaz',\n",
       " 'alka',\n",
       " 'alkaterji',\n",
       " 'alkawari',\n",
       " 'alkhelaifi',\n",
       " 'all',\n",
       " 'allahabad',\n",
       " 'allamerica',\n",
       " 'allamerican',\n",
       " 'allan',\n",
       " 'allard',\n",
       " ...]"
      ]
     },
     "execution_count": 33,
     "metadata": {},
     "output_type": "execute_result"
    }
   ],
   "source": [
    "cv.get_feature_names()"
   ]
  },
  {
   "cell_type": "markdown",
   "metadata": {},
   "source": [
    "## Machine learning algorithms for Modelling."
   ]
  },
  {
   "cell_type": "markdown",
   "metadata": {},
   "source": [
    "### LOGISTIC REGRESSION"
   ]
  },
  {
   "cell_type": "code",
   "execution_count": 34,
   "metadata": {},
   "outputs": [],
   "source": [
    "from sklearn.linear_model import LogisticRegression\n",
    "import pickle\n",
    "Log_Reg=LogisticRegression(solver='liblinear',random_state=0)"
   ]
  },
  {
   "cell_type": "code",
   "execution_count": 35,
   "metadata": {},
   "outputs": [],
   "source": [
    "model= Log_Reg.fit(X_train_cv, y_train)"
   ]
  },
  {
   "cell_type": "code",
   "execution_count": 36,
   "metadata": {},
   "outputs": [
    {
     "data": {
      "text/plain": [
       "array([1, 0, 0, ..., 0, 1, 1], dtype=int64)"
      ]
     },
     "execution_count": 36,
     "metadata": {},
     "output_type": "execute_result"
    }
   ],
   "source": [
    "Log_Reg.predict(X_test_cv)"
   ]
  },
  {
   "cell_type": "code",
   "execution_count": 37,
   "metadata": {},
   "outputs": [],
   "source": [
    "y_predicted= Log_Reg.predict(X_test_cv)"
   ]
  },
  {
   "cell_type": "code",
   "execution_count": 38,
   "metadata": {},
   "outputs": [
    {
     "data": {
      "text/plain": [
       "array([[677,  23],\n",
       "       [ 16, 601]], dtype=int64)"
      ]
     },
     "execution_count": 38,
     "metadata": {},
     "output_type": "execute_result"
    }
   ],
   "source": [
    "from sklearn.metrics import confusion_matrix, accuracy_score, classification_report\n",
    "confusion_matrix(y_test, y_predicted)"
   ]
  },
  {
   "cell_type": "code",
   "execution_count": 39,
   "metadata": {},
   "outputs": [
    {
     "data": {
      "text/plain": [
       "0.9703872437357631"
      ]
     },
     "execution_count": 39,
     "metadata": {},
     "output_type": "execute_result"
    }
   ],
   "source": [
    "accuracy_score(y_test, y_predicted)"
   ]
  },
  {
   "cell_type": "code",
   "execution_count": 40,
   "metadata": {},
   "outputs": [
    {
     "name": "stdout",
     "output_type": "stream",
     "text": [
      "              precision    recall  f1-score   support\n",
      "\n",
      "           0       0.98      0.97      0.97       700\n",
      "           1       0.96      0.97      0.97       617\n",
      "\n",
      "    accuracy                           0.97      1317\n",
      "   macro avg       0.97      0.97      0.97      1317\n",
      "weighted avg       0.97      0.97      0.97      1317\n",
      "\n"
     ]
    }
   ],
   "source": [
    "print(classification_report(y_test, y_predicted))"
   ]
  },
  {
   "cell_type": "code",
   "execution_count": 41,
   "metadata": {},
   "outputs": [
    {
     "name": "stdout",
     "output_type": "stream",
     "text": [
      "Test score with Logistic regression is 0.9703872437357631\n"
     ]
    }
   ],
   "source": [
    "print('Test score with Logistic regression is', accuracy_score(y_test, y_predicted))"
   ]
  },
  {
   "cell_type": "markdown",
   "metadata": {},
   "source": [
    "### DECISION TREE CLASSIFIER"
   ]
  },
  {
   "cell_type": "code",
   "execution_count": 42,
   "metadata": {},
   "outputs": [],
   "source": [
    "from sklearn.tree import DecisionTreeClassifier\n",
    "Dtc= DecisionTreeClassifier(criterion= 'entropy')"
   ]
  },
  {
   "cell_type": "code",
   "execution_count": 43,
   "metadata": {},
   "outputs": [
    {
     "data": {
      "text/plain": [
       "array([1, 0, 0, ..., 0, 1, 0], dtype=int64)"
      ]
     },
     "execution_count": 43,
     "metadata": {},
     "output_type": "execute_result"
    }
   ],
   "source": [
    "model= Dtc.fit(X_train_cv, y_train)\n",
    "model.predict(X_test_cv)"
   ]
  },
  {
   "cell_type": "code",
   "execution_count": 44,
   "metadata": {},
   "outputs": [],
   "source": [
    "y_pred= model.predict(X_test_cv)"
   ]
  },
  {
   "cell_type": "code",
   "execution_count": 45,
   "metadata": {},
   "outputs": [
    {
     "data": {
      "text/plain": [
       "array([[664,  36],\n",
       "       [ 29, 588]], dtype=int64)"
      ]
     },
     "execution_count": 45,
     "metadata": {},
     "output_type": "execute_result"
    }
   ],
   "source": [
    "from sklearn.metrics import confusion_matrix\n",
    "confusion_matrix(y_test, y_pred)"
   ]
  },
  {
   "cell_type": "code",
   "execution_count": 46,
   "metadata": {},
   "outputs": [
    {
     "name": "stdout",
     "output_type": "stream",
     "text": [
      "              precision    recall  f1-score   support\n",
      "\n",
      "           0       0.96      0.95      0.95       700\n",
      "           1       0.94      0.95      0.95       617\n",
      "\n",
      "    accuracy                           0.95      1317\n",
      "   macro avg       0.95      0.95      0.95      1317\n",
      "weighted avg       0.95      0.95      0.95      1317\n",
      "\n"
     ]
    }
   ],
   "source": [
    "print(classification_report(y_test, y_pred))"
   ]
  },
  {
   "cell_type": "code",
   "execution_count": 47,
   "metadata": {},
   "outputs": [
    {
     "data": {
      "text/plain": [
       "0.9506454062262718"
      ]
     },
     "execution_count": 47,
     "metadata": {},
     "output_type": "execute_result"
    }
   ],
   "source": [
    "accuracy_score(y_test, y_pred)"
   ]
  },
  {
   "cell_type": "markdown",
   "metadata": {},
   "source": [
    "### NAIVE BAYES APPROACH"
   ]
  },
  {
   "cell_type": "code",
   "execution_count": 48,
   "metadata": {},
   "outputs": [],
   "source": [
    "from sklearn.naive_bayes import MultinomialNB\n",
    "NBmodel= MultinomialNB()"
   ]
  },
  {
   "cell_type": "code",
   "execution_count": 49,
   "metadata": {},
   "outputs": [],
   "source": [
    "model3=NBmodel.fit(X_train_cv, y_train)"
   ]
  },
  {
   "cell_type": "code",
   "execution_count": 50,
   "metadata": {},
   "outputs": [],
   "source": [
    "y_predNB=model3.predict(X_test_cv)"
   ]
  },
  {
   "cell_type": "code",
   "execution_count": 51,
   "metadata": {},
   "outputs": [
    {
     "data": {
      "text/plain": [
       "array([1, 0, 0, ..., 0, 1, 1], dtype=int64)"
      ]
     },
     "execution_count": 51,
     "metadata": {},
     "output_type": "execute_result"
    }
   ],
   "source": [
    "all_predictions=NBmodel.predict(X_test_cv)\n",
    "all_predictions"
   ]
  },
  {
   "cell_type": "code",
   "execution_count": 52,
   "metadata": {},
   "outputs": [
    {
     "data": {
      "text/plain": [
       "array([[645,  55],\n",
       "       [ 20, 597]], dtype=int64)"
      ]
     },
     "execution_count": 52,
     "metadata": {},
     "output_type": "execute_result"
    }
   ],
   "source": [
    "confusion_matrix(y_test, y_predNB)"
   ]
  },
  {
   "cell_type": "code",
   "execution_count": 53,
   "metadata": {},
   "outputs": [
    {
     "data": {
      "text/plain": [
       "0.9430523917995444"
      ]
     },
     "execution_count": 53,
     "metadata": {},
     "output_type": "execute_result"
    }
   ],
   "source": [
    "accuracy_score(y_test, y_predNB)"
   ]
  },
  {
   "cell_type": "code",
   "execution_count": 54,
   "metadata": {},
   "outputs": [
    {
     "name": "stdout",
     "output_type": "stream",
     "text": [
      "              precision    recall  f1-score   support\n",
      "\n",
      "           0       0.97      0.92      0.95       700\n",
      "           1       0.92      0.97      0.94       617\n",
      "\n",
      "    accuracy                           0.94      1317\n",
      "   macro avg       0.94      0.94      0.94      1317\n",
      "weighted avg       0.94      0.94      0.94      1317\n",
      "\n"
     ]
    }
   ],
   "source": [
    "print(classification_report(y_test, y_predNB))"
   ]
  },
  {
   "cell_type": "markdown",
   "metadata": {},
   "source": [
    "## TF-IDF VECTORIZATION METHOD"
   ]
  },
  {
   "cell_type": "code",
   "execution_count": 55,
   "metadata": {},
   "outputs": [
    {
     "data": {
      "text/plain": [
       "['ab',\n",
       " 'aba',\n",
       " 'ababacar',\n",
       " 'aback',\n",
       " 'abadi',\n",
       " 'abadis',\n",
       " 'abandon',\n",
       " 'abandoned',\n",
       " 'abandonment',\n",
       " 'abaqus',\n",
       " 'abate',\n",
       " 'abating',\n",
       " 'abattoir',\n",
       " 'abaya',\n",
       " 'abb',\n",
       " 'abbado',\n",
       " 'abbas',\n",
       " 'abbatevia',\n",
       " 'abbattoir',\n",
       " 'abbey',\n",
       " 'abbeystyle',\n",
       " 'abbie',\n",
       " 'abbott',\n",
       " 'abbotts',\n",
       " 'abbreviate',\n",
       " 'abbvie',\n",
       " 'abbvies',\n",
       " 'abby',\n",
       " 'abbys',\n",
       " 'abc',\n",
       " 'abcnews',\n",
       " 'abcs',\n",
       " 'abdallah',\n",
       " 'abdel',\n",
       " 'abdelaty',\n",
       " 'abdelaziz',\n",
       " 'abdelkader',\n",
       " 'abdelmalek',\n",
       " 'abdomen',\n",
       " 'abdomens',\n",
       " 'abdominal',\n",
       " 'abdrabbu',\n",
       " 'abduba',\n",
       " 'abduct',\n",
       " 'abducted',\n",
       " 'abduction',\n",
       " 'abductions',\n",
       " 'abdul',\n",
       " 'abdulaziz',\n",
       " 'abdulhamit',\n",
       " 'abduljabbar',\n",
       " 'abdullah',\n",
       " 'abdullahfile',\n",
       " 'abdulrahman',\n",
       " 'abe',\n",
       " 'abel',\n",
       " 'abell',\n",
       " 'abemaciclib',\n",
       " 'abemc',\n",
       " 'abenomics',\n",
       " 'aberavon',\n",
       " 'aberdeen',\n",
       " 'aberrant',\n",
       " 'aberration',\n",
       " 'abertis',\n",
       " 'abertiss',\n",
       " 'abes',\n",
       " 'abet',\n",
       " 'abfl',\n",
       " 'abhor',\n",
       " 'abhorrent',\n",
       " 'abibr',\n",
       " 'abide',\n",
       " 'abidifile',\n",
       " 'abigail',\n",
       " 'abilities',\n",
       " 'ability',\n",
       " 'abingdon',\n",
       " 'abject',\n",
       " 'abkarian',\n",
       " 'able',\n",
       " 'ably',\n",
       " 'abnormal',\n",
       " 'abnormality',\n",
       " 'abnormally',\n",
       " 'aboard',\n",
       " 'abolish',\n",
       " 'abolished',\n",
       " 'abominable',\n",
       " 'abomination',\n",
       " 'abort',\n",
       " 'aborted',\n",
       " 'abortion',\n",
       " 'abortions',\n",
       " 'abou',\n",
       " 'aboulenein',\n",
       " 'abound',\n",
       " 'abounds',\n",
       " 'about',\n",
       " 'aboutface',\n",
       " 'aboutme',\n",
       " 'aboutthe',\n",
       " 'above',\n",
       " 'aboveboard',\n",
       " 'aboveif',\n",
       " 'abovementioned',\n",
       " 'abovetheknee',\n",
       " 'abraham',\n",
       " 'abrahams',\n",
       " 'abrahms',\n",
       " 'abreg',\n",
       " 'abreu',\n",
       " 'abroad',\n",
       " 'abrogated',\n",
       " 'abrupt',\n",
       " 'abruptly',\n",
       " 'absa',\n",
       " 'absence',\n",
       " 'absences',\n",
       " 'absent',\n",
       " 'absentees',\n",
       " 'absolute',\n",
       " 'absolutely',\n",
       " 'absorb',\n",
       " 'abstain',\n",
       " 'abstaining',\n",
       " 'abstentions',\n",
       " 'abstract',\n",
       " 'abstraction',\n",
       " 'absurd',\n",
       " 'absurdand',\n",
       " 'absurdity',\n",
       " 'absurdly',\n",
       " 'abt',\n",
       " 'abu',\n",
       " 'abuelo',\n",
       " 'abuelos',\n",
       " 'abuja',\n",
       " 'abulfazl',\n",
       " 'abundance',\n",
       " 'abundant',\n",
       " 'abundantly',\n",
       " 'abuse',\n",
       " 'abused',\n",
       " 'abusedstarved',\n",
       " 'abuser',\n",
       " 'abusers',\n",
       " 'abuses',\n",
       " 'abusing',\n",
       " 'abusive',\n",
       " 'abut',\n",
       " 'aby',\n",
       " 'abyan',\n",
       " 'abysmal',\n",
       " 'abysmally',\n",
       " 'abyss',\n",
       " 'ac',\n",
       " 'aca',\n",
       " 'academia',\n",
       " 'academic',\n",
       " 'academicians',\n",
       " 'academics',\n",
       " 'academies',\n",
       " 'academy',\n",
       " 'academys',\n",
       " 'acambis',\n",
       " 'acast',\n",
       " 'acc',\n",
       " 'accannouncesgametimesnetworksforoctober',\n",
       " 'accc',\n",
       " 'accelerate',\n",
       " 'accelerator',\n",
       " 'accent',\n",
       " 'accentuate',\n",
       " 'accept',\n",
       " 'acceptable',\n",
       " 'acceptance',\n",
       " 'accepted',\n",
       " 'accepting',\n",
       " 'access',\n",
       " 'accessed',\n",
       " 'accessibility',\n",
       " 'accessible',\n",
       " 'accession',\n",
       " 'accessories',\n",
       " 'accessory',\n",
       " 'accident',\n",
       " 'accidental',\n",
       " 'accidentally',\n",
       " 'accidently',\n",
       " 'accidents',\n",
       " 'acclaim',\n",
       " 'accnation',\n",
       " 'accnetworkheadedtobristolandotheraccnetworknotes',\n",
       " 'accolade',\n",
       " 'accolades',\n",
       " 'accommodate',\n",
       " 'accommodation',\n",
       " 'accommodations',\n",
       " 'accompaniment',\n",
       " 'accompanist',\n",
       " 'accompany',\n",
       " 'accomplice',\n",
       " 'accomplices',\n",
       " 'accomplish',\n",
       " 'accomplished',\n",
       " 'accomplishment',\n",
       " 'accomplishments',\n",
       " 'accor',\n",
       " 'accord',\n",
       " 'accordance',\n",
       " 'according',\n",
       " 'accordingly',\n",
       " 'accors',\n",
       " 'accost',\n",
       " 'account',\n",
       " 'accountability',\n",
       " 'accountable',\n",
       " 'accountancy',\n",
       " 'accountant',\n",
       " 'accounts',\n",
       " 'accra',\n",
       " 'accredit',\n",
       " 'accreditation',\n",
       " 'accrue',\n",
       " 'accs',\n",
       " 'accumulate',\n",
       " 'accumulated',\n",
       " 'accumulates',\n",
       " 'accuracy',\n",
       " 'accurate',\n",
       " 'accurately',\n",
       " 'accusation',\n",
       " 'accusations',\n",
       " 'accuse',\n",
       " 'accused',\n",
       " 'accusers',\n",
       " 'accustom',\n",
       " 'ace',\n",
       " 'acefan',\n",
       " 'acelike',\n",
       " 'acerbic',\n",
       " 'aces',\n",
       " 'acevedo',\n",
       " 'acftp',\n",
       " 'acharya',\n",
       " 'ache',\n",
       " 'ached',\n",
       " 'achievable',\n",
       " 'achieve',\n",
       " 'achieved',\n",
       " 'achievement',\n",
       " 'achievements',\n",
       " 'achieving',\n",
       " 'achilles',\n",
       " 'achterhuis',\n",
       " 'acid',\n",
       " 'acidic',\n",
       " 'acids',\n",
       " 'acitretin',\n",
       " 'acker',\n",
       " 'ackerman',\n",
       " 'acknowledge',\n",
       " 'acknowledged',\n",
       " 'acknowledgement',\n",
       " 'acknowledgment',\n",
       " 'acknowledgments',\n",
       " 'acl',\n",
       " 'aclu',\n",
       " 'aclus',\n",
       " 'acnespecked',\n",
       " 'acolyte',\n",
       " 'acolytes',\n",
       " 'acosta',\n",
       " 'acoustic',\n",
       " 'acoustics',\n",
       " 'acquaintance',\n",
       " 'acquaintances',\n",
       " 'acquiesce',\n",
       " 'acquiescence',\n",
       " 'acquire',\n",
       " 'acquired',\n",
       " 'acquisition',\n",
       " 'acquisitionhungry',\n",
       " 'acquisitions',\n",
       " 'acquit',\n",
       " 'acquittal',\n",
       " 'acre',\n",
       " 'acres',\n",
       " 'acrimonious',\n",
       " 'acrobatic',\n",
       " 'acronym',\n",
       " 'acronyms',\n",
       " 'across',\n",
       " 'acrosstheboard',\n",
       " 'acs',\n",
       " 'acsmc',\n",
       " 'act',\n",
       " 'acta',\n",
       " 'acted',\n",
       " 'acting',\n",
       " 'action',\n",
       " 'actionable',\n",
       " 'actions',\n",
       " 'activate',\n",
       " 'activated',\n",
       " 'activations',\n",
       " 'active',\n",
       " 'actively',\n",
       " 'activision',\n",
       " 'activism',\n",
       " 'activist',\n",
       " 'activistpost',\n",
       " 'activistpostcom',\n",
       " 'activists',\n",
       " 'activities',\n",
       " 'activity',\n",
       " 'actnot',\n",
       " 'actor',\n",
       " 'actorly',\n",
       " 'actors',\n",
       " 'actress',\n",
       " 'actresses',\n",
       " 'actresss',\n",
       " 'acts',\n",
       " 'actual',\n",
       " 'actually',\n",
       " 'acute',\n",
       " 'acutely',\n",
       " 'ad',\n",
       " 'ada',\n",
       " 'adaca',\n",
       " 'adage',\n",
       " 'adagio',\n",
       " 'adam',\n",
       " 'adamant',\n",
       " 'adamantly',\n",
       " 'adamczyk',\n",
       " 'adamczyks',\n",
       " 'adams',\n",
       " 'adamschefter',\n",
       " 'adamss',\n",
       " 'adana',\n",
       " 'adapt',\n",
       " 'adaptable',\n",
       " 'adaptation',\n",
       " 'adapted',\n",
       " 'adaybynhtsainairbaginvestigationhtml',\n",
       " 'add',\n",
       " 'added',\n",
       " 'addedeveryone',\n",
       " 'adderall',\n",
       " 'addicks',\n",
       " 'addict',\n",
       " 'addiction',\n",
       " 'addictions',\n",
       " 'addictive',\n",
       " 'addicts',\n",
       " 'adding',\n",
       " 'addison',\n",
       " 'addition',\n",
       " 'additional',\n",
       " 'additionally',\n",
       " 'additions',\n",
       " 'additives',\n",
       " 'additonal',\n",
       " 'address',\n",
       " 'addressed',\n",
       " 'addresses',\n",
       " 'addressing',\n",
       " 'adds',\n",
       " 'addtional',\n",
       " 'adeel',\n",
       " 'adel',\n",
       " 'adelaide',\n",
       " 'adelaidesydney',\n",
       " 'adele',\n",
       " 'adelson',\n",
       " 'aden',\n",
       " 'adenauer',\n",
       " 'adequate',\n",
       " 'adequately',\n",
       " 'aderski',\n",
       " 'adf',\n",
       " 'adfree',\n",
       " 'adhd',\n",
       " 'adhdlike',\n",
       " 'adhere',\n",
       " 'adherence',\n",
       " 'adi',\n",
       " 'adidas',\n",
       " 'adieu',\n",
       " 'adios',\n",
       " 'adirondack',\n",
       " 'adirondacks',\n",
       " 'adirondackstyle',\n",
       " 'adjacent',\n",
       " 'adjective',\n",
       " 'adjoin',\n",
       " 'adjudicate',\n",
       " 'adjudicated',\n",
       " 'adjudication',\n",
       " 'adjudications',\n",
       " 'adjunct',\n",
       " 'adjust',\n",
       " 'adjustablecollapsible',\n",
       " 'adjustment',\n",
       " 'adjustments',\n",
       " 'adjutant',\n",
       " 'adjuvant',\n",
       " 'adjxohfb',\n",
       " 'adk',\n",
       " 'adkins',\n",
       " 'adks',\n",
       " 'adle',\n",
       " 'adler',\n",
       " 'adm',\n",
       " 'administer',\n",
       " 'administrate',\n",
       " 'administration',\n",
       " 'administrations',\n",
       " 'administrationwere',\n",
       " 'administrationwide',\n",
       " 'administrative',\n",
       " 'administrator',\n",
       " 'administrators',\n",
       " 'admins',\n",
       " 'admirable',\n",
       " 'admiral',\n",
       " 'admirals',\n",
       " 'admiralty',\n",
       " 'admiration',\n",
       " 'admire',\n",
       " 'admirer',\n",
       " 'admirers',\n",
       " 'admission',\n",
       " 'admissions',\n",
       " 'admit',\n",
       " 'admits',\n",
       " 'admitted',\n",
       " 'admonish',\n",
       " 'admonishment',\n",
       " 'adnkronos',\n",
       " 'ado',\n",
       " 'adobo',\n",
       " 'adola',\n",
       " 'adolescence',\n",
       " 'adolescent',\n",
       " 'adolescents',\n",
       " 'adolf',\n",
       " 'adopt',\n",
       " 'adopted',\n",
       " 'adoption',\n",
       " 'adoptive',\n",
       " 'adorable',\n",
       " 'adore',\n",
       " 'adorn',\n",
       " 'adot',\n",
       " 'adp',\n",
       " 'adrenaline',\n",
       " 'adrian',\n",
       " 'adriana',\n",
       " 'adriano',\n",
       " 'adrien',\n",
       " 'adrift',\n",
       " 'ads',\n",
       " 'adsit',\n",
       " 'adulation',\n",
       " 'adult',\n",
       " 'adulterants',\n",
       " 'adulterous',\n",
       " 'adultery',\n",
       " 'adulthood',\n",
       " 'adults',\n",
       " 'adultswim',\n",
       " 'advance',\n",
       " 'advanced',\n",
       " 'advancement',\n",
       " 'advancements',\n",
       " 'advances',\n",
       " 'advantage',\n",
       " 'advantageous',\n",
       " 'advantages',\n",
       " 'advent',\n",
       " 'adventure',\n",
       " 'adventurer',\n",
       " 'adventures',\n",
       " 'adventurous',\n",
       " 'adversarial',\n",
       " 'adversaries',\n",
       " 'adversary',\n",
       " 'adverse',\n",
       " 'adversely',\n",
       " 'adversity',\n",
       " 'advert',\n",
       " 'advertise',\n",
       " 'advertised',\n",
       " 'advertisement',\n",
       " 'advertisements',\n",
       " 'advertiser',\n",
       " 'advertisers',\n",
       " 'advertising',\n",
       " 'adverts',\n",
       " 'advice',\n",
       " 'advisable',\n",
       " 'advise',\n",
       " 'advised',\n",
       " 'adviser',\n",
       " 'advisers',\n",
       " 'advisor',\n",
       " 'advisors',\n",
       " 'advisory',\n",
       " 'advocacy',\n",
       " 'advocate',\n",
       " 'advocates',\n",
       " 'advocating',\n",
       " 'ae',\n",
       " 'aec',\n",
       " 'aecio',\n",
       " 'aeg',\n",
       " 'aegis',\n",
       " 'aerate',\n",
       " 'aereophotography',\n",
       " 'aerial',\n",
       " 'aero',\n",
       " 'aeromobil',\n",
       " 'aeronautics',\n",
       " 'aerosmith',\n",
       " 'aerosol',\n",
       " 'aerosols',\n",
       " 'aerospace',\n",
       " 'aesthetic',\n",
       " 'af',\n",
       " 'afa',\n",
       " 'afar',\n",
       " 'afb',\n",
       " 'afbranco',\n",
       " 'afc',\n",
       " 'afcn',\n",
       " 'afd',\n",
       " 'afds',\n",
       " 'afe',\n",
       " 'affable',\n",
       " 'affadl',\n",
       " 'affair',\n",
       " 'affairs',\n",
       " 'affect',\n",
       " 'affectations',\n",
       " 'affected',\n",
       " 'affection',\n",
       " 'affidavit',\n",
       " 'affiliate',\n",
       " 'affiliation',\n",
       " 'affiliations',\n",
       " 'affinities',\n",
       " 'affinity',\n",
       " 'affirm',\n",
       " 'affirmation',\n",
       " 'affirmatively',\n",
       " 'affix',\n",
       " 'affleck',\n",
       " 'afflict',\n",
       " 'affluence',\n",
       " 'affluent',\n",
       " 'afford',\n",
       " 'affordability',\n",
       " 'affordable',\n",
       " 'affront',\n",
       " 'afghan',\n",
       " 'afghanistan',\n",
       " 'afghanistanpakistan',\n",
       " 'afghanistans',\n",
       " 'afghanpakistan',\n",
       " 'aficionado',\n",
       " 'afire',\n",
       " 'afloat',\n",
       " 'afoot',\n",
       " 'aforementioned',\n",
       " 'afoul',\n",
       " 'afp',\n",
       " 'afpat',\n",
       " 'afpgetty',\n",
       " 'afraid',\n",
       " 'africa',\n",
       " 'african',\n",
       " 'africanamerican',\n",
       " 'africanamericans',\n",
       " 'africancaribbean',\n",
       " 'africans',\n",
       " 'africas',\n",
       " 'africom',\n",
       " 'aft',\n",
       " 'after',\n",
       " 'aftereffects',\n",
       " 'afterglow',\n",
       " 'afterlife',\n",
       " 'aftermath',\n",
       " 'afternoon',\n",
       " 'afternoonevening',\n",
       " 'afterparty',\n",
       " 'aftershocks',\n",
       " 'aftertax',\n",
       " 'afterthought',\n",
       " 'aftertreatment',\n",
       " 'afterward',\n",
       " 'afterwards',\n",
       " 'afterwork',\n",
       " 'afyonkarahisar',\n",
       " 'ag',\n",
       " 'agadez',\n",
       " 'again',\n",
       " 'againbut',\n",
       " 'against',\n",
       " 'againstand',\n",
       " 'agarwal',\n",
       " 'agbey',\n",
       " 'agca',\n",
       " 'agde',\n",
       " 'age',\n",
       " 'agence',\n",
       " 'agencia',\n",
       " 'agencies',\n",
       " 'agenciescollude',\n",
       " 'agency',\n",
       " 'agencyhandout',\n",
       " 'agencymajid',\n",
       " 'agencys',\n",
       " 'agenda',\n",
       " 'agendas',\n",
       " 'agendasetting',\n",
       " 'agent',\n",
       " 'agents',\n",
       " 'ages',\n",
       " 'aggett',\n",
       " 'aggies',\n",
       " 'aggravate',\n",
       " 'aggregate',\n",
       " 'aggregation',\n",
       " 'aggression',\n",
       " 'aggressive',\n",
       " 'aggressively',\n",
       " 'aggressiveness',\n",
       " 'aggressor',\n",
       " 'aggrieve',\n",
       " 'aggrivated',\n",
       " 'agholor',\n",
       " 'agile',\n",
       " 'agility',\n",
       " 'aging',\n",
       " 'agitate',\n",
       " 'agitation',\n",
       " 'agitator',\n",
       " 'aglow',\n",
       " 'agm',\n",
       " 'agnieszka',\n",
       " 'agnifilo',\n",
       " 'agnostus',\n",
       " 'ago',\n",
       " 'agonize',\n",
       " 'agony',\n",
       " 'agorist',\n",
       " 'agree',\n",
       " 'agreeable',\n",
       " 'agreed',\n",
       " 'agreejimmy',\n",
       " 'agreement',\n",
       " 'agreements',\n",
       " 'agrees',\n",
       " 'agresta',\n",
       " 'agrestas',\n",
       " 'agri',\n",
       " 'agricultural',\n",
       " 'agriculturalists',\n",
       " 'agriculture',\n",
       " 'agrifoods',\n",
       " 'agrigento',\n",
       " 'agronomists',\n",
       " 'aground',\n",
       " 'agu',\n",
       " 'agualusa',\n",
       " 'aguayo',\n",
       " 'aguero',\n",
       " 'aguilar',\n",
       " 'aguirre',\n",
       " 'agung',\n",
       " 'agungs',\n",
       " 'agut',\n",
       " 'ah',\n",
       " 'ahammsportsgeek',\n",
       " 'ahand',\n",
       " 'ahas',\n",
       " 'ahead',\n",
       " 'ahh',\n",
       " 'ahhhh',\n",
       " 'ahhs',\n",
       " 'ahkeem',\n",
       " 'ahl',\n",
       " 'ahlers',\n",
       " 'ahli',\n",
       " 'ahmad',\n",
       " 'ahmads',\n",
       " 'ahmed',\n",
       " 'ahmedabad',\n",
       " 'ahmet',\n",
       " 'ahn',\n",
       " 'ahr',\n",
       " 'ahs',\n",
       " 'ahve',\n",
       " 'ahvohjij',\n",
       " 'ai',\n",
       " 'aiba',\n",
       " 'aibas',\n",
       " 'aibonito',\n",
       " 'aicubjlud',\n",
       " 'aid',\n",
       " 'aidan',\n",
       " 'aide',\n",
       " 'aided',\n",
       " 'aiden',\n",
       " 'aides',\n",
       " 'aids',\n",
       " 'aidsrelated',\n",
       " 'aidy',\n",
       " 'ail',\n",
       " 'ailes',\n",
       " 'ailment',\n",
       " 'aim',\n",
       " 'aimagei',\n",
       " 'aimageia',\n",
       " 'aimageibe',\n",
       " 'aimageid',\n",
       " 'aimageidc',\n",
       " 'aimageie',\n",
       " 'aimageiede',\n",
       " 'aimageif',\n",
       " 'aimageifa',\n",
       " 'aimageifb',\n",
       " 'aimee',\n",
       " 'aims',\n",
       " 'aina',\n",
       " 'aint',\n",
       " 'air',\n",
       " 'airasia',\n",
       " 'airbag',\n",
       " 'airbags',\n",
       " 'airbase',\n",
       " 'airbnb',\n",
       " 'airboat',\n",
       " 'airborne',\n",
       " 'airbrush',\n",
       " 'airbrushing',\n",
       " 'airbus',\n",
       " 'aircasts',\n",
       " 'aircondition',\n",
       " 'airconditioning',\n",
       " 'aircraft',\n",
       " 'aircrafts',\n",
       " 'aircraporg',\n",
       " 'aired',\n",
       " 'aires',\n",
       " 'airfield',\n",
       " 'airfpa',\n",
       " 'airglow',\n",
       " 'airlift',\n",
       " 'airline',\n",
       " 'airliner',\n",
       " 'airliners',\n",
       " 'airlines',\n",
       " 'airmen',\n",
       " 'airpa',\n",
       " 'airplane',\n",
       " 'airplanes',\n",
       " 'airplay',\n",
       " 'airport',\n",
       " 'airports',\n",
       " 'airshow',\n",
       " 'airspace',\n",
       " 'airstrike',\n",
       " 'airstrikes',\n",
       " 'airtime',\n",
       " 'airtoground',\n",
       " 'airtraffic',\n",
       " 'airwaves',\n",
       " 'airway',\n",
       " 'airways',\n",
       " 'airy',\n",
       " 'aishwarya',\n",
       " 'aisle',\n",
       " 'aisles',\n",
       " 'aisyah',\n",
       " 'aisyahs',\n",
       " 'aizhu',\n",
       " 'aj',\n",
       " 'ajax',\n",
       " 'ajay',\n",
       " 'ajayi',\n",
       " 'ajc',\n",
       " 'ajeet',\n",
       " 'ajit',\n",
       " 'ajjan',\n",
       " 'ajmal',\n",
       " 'ajph',\n",
       " 'ak',\n",
       " 'aka',\n",
       " 'akash',\n",
       " 'akbar',\n",
       " 'akbor',\n",
       " 'akborgulsara',\n",
       " 'akeel',\n",
       " 'akeem',\n",
       " 'akers',\n",
       " 'akhtar',\n",
       " 'akiem',\n",
       " 'akihiro',\n",
       " 'akiko',\n",
       " 'akin',\n",
       " 'akinfeev',\n",
       " 'akros',\n",
       " 'aksam',\n",
       " 'aksel',\n",
       " 'akstyle',\n",
       " 'aktasprime',\n",
       " 'akufoaddo',\n",
       " 'akunyili',\n",
       " 'akwiri',\n",
       " 'al',\n",
       " 'ala',\n",
       " 'alabadi',\n",
       " 'alabadis',\n",
       " 'alabai',\n",
       " 'alabama',\n",
       " 'alabamas',\n",
       " 'alabamian',\n",
       " 'alabamians',\n",
       " 'alabidine',\n",
       " 'alahmad',\n",
       " 'alahmed',\n",
       " 'alajmal',\n",
       " 'alalagi',\n",
       " 'alalaqi',\n",
       " 'alammu',\n",
       " 'alammus',\n",
       " 'alan',\n",
       " 'alana',\n",
       " 'alanis',\n",
       " 'alarm',\n",
       " 'alarming',\n",
       " 'alarmingly',\n",
       " 'alarms',\n",
       " 'alarouri',\n",
       " 'alaruri',\n",
       " 'alaryan',\n",
       " 'alas',\n",
       " 'alaska',\n",
       " 'alaskan',\n",
       " 'alaskans',\n",
       " 'alaskas',\n",
       " 'alassad',\n",
       " 'alassads',\n",
       " 'alastair',\n",
       " 'alay',\n",
       " 'albaghdadi',\n",
       " 'albahlul',\n",
       " 'albakr',\n",
       " 'albania',\n",
       " 'albardawil',\n",
       " 'albatross',\n",
       " 'albayrak',\n",
       " 'albedo',\n",
       " 'albeit',\n",
       " 'alber',\n",
       " 'albert',\n",
       " 'alberta',\n",
       " 'alberth',\n",
       " 'alberto',\n",
       " 'albies',\n",
       " 'albiol',\n",
       " 'albion',\n",
       " 'albouy',\n",
       " 'album',\n",
       " 'albums',\n",
       " 'albuquerque',\n",
       " 'alchemy',\n",
       " 'alckmin',\n",
       " 'alcohol',\n",
       " 'alcoholfueled',\n",
       " 'alcoholic',\n",
       " 'alcoholism',\n",
       " 'alcon',\n",
       " 'alcs',\n",
       " 'aldabashi',\n",
       " 'aldarbi',\n",
       " 'aldcs',\n",
       " 'aldean',\n",
       " 'aldeans',\n",
       " 'aldeon',\n",
       " 'alderson',\n",
       " 'alderweireld',\n",
       " 'aldi',\n",
       " 'aldo',\n",
       " 'aldrick',\n",
       " 'alds',\n",
       " 'alec',\n",
       " 'aledo',\n",
       " 'aleem',\n",
       " 'alegre',\n",
       " 'aleida',\n",
       " 'alejandro',\n",
       " 'aleksandar',\n",
       " 'aleksei',\n",
       " 'alen',\n",
       " 'aleppo',\n",
       " 'alerigi',\n",
       " 'alert',\n",
       " 'alerted',\n",
       " 'alertness',\n",
       " 'alesky',\n",
       " 'alessandra',\n",
       " 'alex',\n",
       " 'alexa',\n",
       " 'alexander',\n",
       " 'alexandermurray',\n",
       " 'alexandr',\n",
       " 'alexandra',\n",
       " 'alexandre',\n",
       " 'alexandros',\n",
       " 'alexei',\n",
       " 'alexi',\n",
       " 'alexievich',\n",
       " 'alexis',\n",
       " 'alexradow',\n",
       " 'alexs',\n",
       " 'alfaisal',\n",
       " 'alfarra',\n",
       " 'alfashir',\n",
       " 'alfetori',\n",
       " 'alfie',\n",
       " 'alford',\n",
       " 'alfred',\n",
       " 'alfredo',\n",
       " 'alfresco',\n",
       " 'algae',\n",
       " 'algebra',\n",
       " 'algeria',\n",
       " 'algerian',\n",
       " 'algerias',\n",
       " 'alghanem',\n",
       " 'algharabili',\n",
       " 'algharbi',\n",
       " 'algiers',\n",
       " 'algonquin',\n",
       " 'algorithm',\n",
       " 'algorithmdriven',\n",
       " 'algorithms',\n",
       " 'alhadi',\n",
       " 'alhambra',\n",
       " 'alhashimi',\n",
       " 'alhazmi',\n",
       " 'alhussayen',\n",
       " 'ali',\n",
       " 'aliases',\n",
       " 'alibaba',\n",
       " 'alibabas',\n",
       " 'alicante',\n",
       " 'alice',\n",
       " 'alicia',\n",
       " 'alie',\n",
       " 'alien',\n",
       " 'alienate',\n",
       " 'alienating',\n",
       " 'alienlike',\n",
       " 'aliens',\n",
       " 'align',\n",
       " 'aligncenter',\n",
       " 'aligned',\n",
       " 'alike',\n",
       " 'aliment',\n",
       " 'alimentarius',\n",
       " 'alioune',\n",
       " 'alipay',\n",
       " 'alire',\n",
       " 'alislam',\n",
       " 'aliso',\n",
       " 'alison',\n",
       " 'alist',\n",
       " 'alistair',\n",
       " 'alitalia',\n",
       " 'alive',\n",
       " 'alize',\n",
       " 'aljaz',\n",
       " 'alka',\n",
       " 'alkaterji',\n",
       " 'alkawari',\n",
       " 'alkhelaifi',\n",
       " 'all',\n",
       " 'allahabad',\n",
       " 'allamerica',\n",
       " 'allamerican',\n",
       " 'allan',\n",
       " 'allard',\n",
       " ...]"
      ]
     },
     "execution_count": 55,
     "metadata": {},
     "output_type": "execute_result"
    }
   ],
   "source": [
    "from sklearn.feature_extraction.text import TfidfVectorizer\n",
    "tfidf= TfidfVectorizer()\n",
    "features= cv.get_feature_names()\n",
    "features"
   ]
  },
  {
   "cell_type": "code",
   "execution_count": 56,
   "metadata": {},
   "outputs": [
    {
     "name": "stdout",
     "output_type": "stream",
     "text": [
      "        ab  aba  ababacar  aback  abadi  abadis  abandon  abandoned  \\\n",
      "0     0.00  0.0       0.0    0.0    0.0     0.0      0.0        0.0   \n",
      "1     0.00  0.0       0.0    0.0    0.0     0.0      0.0        0.0   \n",
      "2     0.00  0.0       0.0    0.0    0.0     0.0      0.0        0.0   \n",
      "3     0.00  0.0       0.0    0.0    0.0     0.0      0.0        0.0   \n",
      "4     0.00  0.0       0.0    0.0    0.0     0.0      0.0        0.0   \n",
      "...    ...  ...       ...    ...    ...     ...      ...        ...   \n",
      "2666  0.16  0.0       0.0    0.0    0.0     0.0      0.0        0.0   \n",
      "2667  0.00  0.0       0.0    0.0    0.0     0.0      0.0        0.0   \n",
      "2668  0.00  0.0       0.0    0.0    0.0     0.0      0.0        0.0   \n",
      "2669  0.00  0.0       0.0    0.0    0.0     0.0      0.0        0.0   \n",
      "2670  0.00  0.0       0.0    0.0    0.0     0.0      0.0        0.0   \n",
      "\n",
      "      abandonment  abaqus  ...  zuppa  zuppiger  zuptas  zurawski  zurcher  \\\n",
      "0             0.0     0.0  ...    0.0       0.0     0.0       0.0      0.0   \n",
      "1             0.0     0.0  ...    0.0       0.0     0.0       0.0      0.0   \n",
      "2             0.0     0.0  ...    0.0       0.0     0.0       0.0      0.0   \n",
      "3             0.0     0.0  ...    0.0       0.0     0.0       0.0      0.0   \n",
      "4             0.0     0.0  ...    0.0       0.0     0.0       0.0      0.0   \n",
      "...           ...     ...  ...    ...       ...     ...       ...      ...   \n",
      "2666          0.0     0.0  ...    0.0       0.0     0.0       0.0      0.0   \n",
      "2667          0.0     0.0  ...    0.0       0.0     0.0       0.0      0.0   \n",
      "2668          0.0     0.0  ...    0.0       0.0     0.0       0.0      0.0   \n",
      "2669          0.0     0.0  ...    0.0       0.0     0.0       0.0      0.0   \n",
      "2670          0.0     0.0  ...    0.0       0.0     0.0       0.0      0.0   \n",
      "\n",
      "      zurich  zurichbased  zverev  zypries  zywljlmpwzw  \n",
      "0        0.0          0.0     0.0      0.0          0.0  \n",
      "1        0.0          0.0     0.0      0.0          0.0  \n",
      "2        0.0          0.0     0.0      0.0          0.0  \n",
      "3        0.0          0.0     0.0      0.0          0.0  \n",
      "4        0.0          0.0     0.0      0.0          0.0  \n",
      "...      ...          ...     ...      ...          ...  \n",
      "2666     0.0          0.0     0.0      0.0          0.0  \n",
      "2667     0.0          0.0     0.0      0.0          0.0  \n",
      "2668     0.0          0.0     0.0      0.0          0.0  \n",
      "2669     0.0          0.0     0.0      0.0          0.0  \n",
      "2670     0.0          0.0     0.0      0.0          0.0  \n",
      "\n",
      "[2671 rows x 40253 columns]\n"
     ]
    }
   ],
   "source": [
    "X_train_tfidf= tfidf.fit_transform(X_train).toarray()\n",
    "df_tfidf= pd.DataFrame(X_train_tfidf, columns= features)\n",
    "print(round(df_tfidf, ndigits=2))\n",
    "X_test_tfidf= tfidf.transform(X_test)"
   ]
  },
  {
   "cell_type": "code",
   "execution_count": 57,
   "metadata": {},
   "outputs": [],
   "source": [
    "y= df.Label.values"
   ]
  },
  {
   "cell_type": "code",
   "execution_count": 58,
   "metadata": {},
   "outputs": [
    {
     "data": {
      "text/plain": [
       "((2671, 40253), (1317, 40253), (2671,), (1317,))"
      ]
     },
     "execution_count": 58,
     "metadata": {},
     "output_type": "execute_result"
    }
   ],
   "source": [
    "X_train_tfidf.shape, X_test_tfidf.shape, y_train.shape, y_test.shape"
   ]
  },
  {
   "cell_type": "markdown",
   "metadata": {},
   "source": [
    "### LOGISTIC REGRESSION"
   ]
  },
  {
   "cell_type": "code",
   "execution_count": 59,
   "metadata": {},
   "outputs": [],
   "source": [
    "model= Log_Reg.fit(X_train_tfidf, y_train)"
   ]
  },
  {
   "cell_type": "code",
   "execution_count": 60,
   "metadata": {},
   "outputs": [],
   "source": [
    "y_pred=model.predict(X_test_tfidf)"
   ]
  },
  {
   "cell_type": "code",
   "execution_count": 61,
   "metadata": {},
   "outputs": [
    {
     "name": "stdout",
     "output_type": "stream",
     "text": [
      "              precision    recall  f1-score   support\n",
      "\n",
      "           0       0.97      0.96      0.97       700\n",
      "           1       0.96      0.97      0.96       617\n",
      "\n",
      "    accuracy                           0.96      1317\n",
      "   macro avg       0.96      0.96      0.96      1317\n",
      "weighted avg       0.96      0.96      0.96      1317\n",
      "\n"
     ]
    }
   ],
   "source": [
    "print(classification_report(y_test, y_pred))"
   ]
  },
  {
   "cell_type": "code",
   "execution_count": 62,
   "metadata": {},
   "outputs": [],
   "source": [
    "from sklearn.metrics import accuracy_score"
   ]
  },
  {
   "cell_type": "code",
   "execution_count": 63,
   "metadata": {},
   "outputs": [
    {
     "name": "stdout",
     "output_type": "stream",
     "text": [
      "accuracy:   0.964\n"
     ]
    }
   ],
   "source": [
    "score = accuracy_score(y_test, y_pred)\n",
    "print(\"accuracy:   %0.3f\" % score)"
   ]
  },
  {
   "cell_type": "code",
   "execution_count": 64,
   "metadata": {},
   "outputs": [
    {
     "data": {
      "text/plain": [
       "array([[672,  28],\n",
       "       [ 19, 598]], dtype=int64)"
      ]
     },
     "execution_count": 64,
     "metadata": {},
     "output_type": "execute_result"
    }
   ],
   "source": [
    "confusion_matrix(y_test, y_pred)"
   ]
  },
  {
   "cell_type": "code",
   "execution_count": 65,
   "metadata": {},
   "outputs": [
    {
     "name": "stdout",
     "output_type": "stream",
     "text": [
      "0.9643128321943811\n"
     ]
    }
   ],
   "source": [
    "filename = 'pickled_2.sav'\n",
    "pickle.dump(model, open(filename, 'wb'))\n",
    " \n",
    "# some time later...\n",
    " \n",
    "# load the model from disk\n",
    "loaded_model = pickle.load(open(filename, 'rb'))\n",
    "result = loaded_model.score(X_test_tfidf, y_test)\n",
    "print(result)"
   ]
  },
  {
   "cell_type": "markdown",
   "metadata": {},
   "source": [
    "### DECISION TREE CLASSIFIER"
   ]
  },
  {
   "cell_type": "code",
   "execution_count": 66,
   "metadata": {},
   "outputs": [],
   "source": [
    "model= Dtc.fit(X_train_tfidf, y_train)\n"
   ]
  },
  {
   "cell_type": "code",
   "execution_count": 67,
   "metadata": {},
   "outputs": [],
   "source": [
    "y_pred= model.predict(X_test_tfidf)"
   ]
  },
  {
   "cell_type": "code",
   "execution_count": 68,
   "metadata": {},
   "outputs": [
    {
     "name": "stdout",
     "output_type": "stream",
     "text": [
      "              precision    recall  f1-score   support\n",
      "\n",
      "           0       0.95      0.96      0.96       700\n",
      "           1       0.95      0.94      0.95       617\n",
      "\n",
      "    accuracy                           0.95      1317\n",
      "   macro avg       0.95      0.95      0.95      1317\n",
      "weighted avg       0.95      0.95      0.95      1317\n",
      "\n"
     ]
    }
   ],
   "source": [
    "print(classification_report(y_test, y_pred))"
   ]
  },
  {
   "cell_type": "code",
   "execution_count": 69,
   "metadata": {},
   "outputs": [
    {
     "data": {
      "text/plain": [
       "array([[671,  29],\n",
       "       [ 34, 583]], dtype=int64)"
      ]
     },
     "execution_count": 69,
     "metadata": {},
     "output_type": "execute_result"
    }
   ],
   "source": [
    "confusion_matrix(y_test, y_pred)"
   ]
  },
  {
   "cell_type": "code",
   "execution_count": 70,
   "metadata": {},
   "outputs": [
    {
     "data": {
      "text/plain": [
       "0.9521640091116174"
      ]
     },
     "execution_count": 70,
     "metadata": {},
     "output_type": "execute_result"
    }
   ],
   "source": [
    "accuracy_score(y_test, y_pred)"
   ]
  },
  {
   "cell_type": "markdown",
   "metadata": {},
   "source": [
    "### NAIVE BAYES APPROACH"
   ]
  },
  {
   "cell_type": "code",
   "execution_count": 71,
   "metadata": {},
   "outputs": [],
   "source": [
    "from sklearn.naive_bayes import MultinomialNB\n",
    "NBmodel= MultinomialNB()"
   ]
  },
  {
   "cell_type": "code",
   "execution_count": 72,
   "metadata": {},
   "outputs": [
    {
     "data": {
      "text/plain": [
       "MultinomialNB()"
      ]
     },
     "execution_count": 72,
     "metadata": {},
     "output_type": "execute_result"
    }
   ],
   "source": [
    "NBmodel.fit(X_train_tfidf, y_train)"
   ]
  },
  {
   "cell_type": "code",
   "execution_count": 73,
   "metadata": {},
   "outputs": [],
   "source": [
    "y_prediction= NBmodel.predict(X_test_tfidf)"
   ]
  },
  {
   "cell_type": "code",
   "execution_count": 74,
   "metadata": {},
   "outputs": [
    {
     "data": {
      "text/plain": [
       "array([[631,  69],\n",
       "       [ 25, 592]], dtype=int64)"
      ]
     },
     "execution_count": 74,
     "metadata": {},
     "output_type": "execute_result"
    }
   ],
   "source": [
    "confusion_matrix(y_test, y_prediction)"
   ]
  },
  {
   "cell_type": "code",
   "execution_count": 75,
   "metadata": {},
   "outputs": [
    {
     "data": {
      "text/plain": [
       "0.9286256643887624"
      ]
     },
     "execution_count": 75,
     "metadata": {},
     "output_type": "execute_result"
    }
   ],
   "source": [
    "accuracy_score(y_test, y_prediction)"
   ]
  },
  {
   "cell_type": "code",
   "execution_count": 76,
   "metadata": {},
   "outputs": [
    {
     "name": "stdout",
     "output_type": "stream",
     "text": [
      "              precision    recall  f1-score   support\n",
      "\n",
      "           0       0.96      0.90      0.93       700\n",
      "           1       0.90      0.96      0.93       617\n",
      "\n",
      "    accuracy                           0.93      1317\n",
      "   macro avg       0.93      0.93      0.93      1317\n",
      "weighted avg       0.93      0.93      0.93      1317\n",
      "\n"
     ]
    }
   ],
   "source": [
    "print(classification_report(y_test, y_prediction))"
   ]
  },
  {
   "cell_type": "markdown",
   "metadata": {},
   "source": [
    "## BEST MODEL TO BE CONSIDERED ON BASIS OF ACCURACY SCORE is Bag of words with Logistic regressor giving an accuracy of 97.03%"
   ]
  },
  {
   "cell_type": "code",
   "execution_count": 77,
   "metadata": {},
   "outputs": [
    {
     "data": {
      "text/plain": [
       "array([1, 0, 0, ..., 0, 1, 1], dtype=int64)"
      ]
     },
     "execution_count": 77,
     "metadata": {},
     "output_type": "execute_result"
    }
   ],
   "source": [
    "## Best pipeline will be \n",
    "\n",
    "Log_Reg= LogisticRegression()\n",
    "model= Log_Reg.fit(X_train_cv, y_train)\n",
    "model.predict(X_test_cv)"
   ]
  },
  {
   "cell_type": "code",
   "execution_count": 78,
   "metadata": {},
   "outputs": [
    {
     "data": {
      "text/plain": [
       "0.9703872437357631"
      ]
     },
     "execution_count": 78,
     "metadata": {},
     "output_type": "execute_result"
    }
   ],
   "source": [
    "accuracy_score(y_test, y_predicted)"
   ]
  },
  {
   "cell_type": "markdown",
   "metadata": {},
   "source": [
    "### Creating a Pickle file for Best Model for deployment Use"
   ]
  },
  {
   "cell_type": "code",
   "execution_count": 79,
   "metadata": {},
   "outputs": [],
   "source": [
    "from sklearn.feature_extraction.text import CountVectorizer\n",
    "cv= CountVectorizer()\n",
    "X_full= cv.fit_transform(df['Text'])"
   ]
  },
  {
   "cell_type": "code",
   "execution_count": 80,
   "metadata": {},
   "outputs": [],
   "source": [
    "from sklearn.linear_model import LogisticRegression\n",
    "import pickle\n",
    "Log_Reg=LogisticRegression(solver='liblinear',random_state=0)"
   ]
  },
  {
   "cell_type": "code",
   "execution_count": 81,
   "metadata": {},
   "outputs": [],
   "source": [
    "model= Log_Reg.fit(X_full, df['Label'])"
   ]
  },
  {
   "cell_type": "code",
   "execution_count": 82,
   "metadata": {},
   "outputs": [],
   "source": [
    "with open('final_model_1509.pkl', 'wb') as f:\n",
    "    pickle.dump(model, f)"
   ]
  },
  {
   "cell_type": "code",
   "execution_count": 83,
   "metadata": {},
   "outputs": [],
   "source": [
    "cv= CountVectorizer()"
   ]
  },
  {
   "cell_type": "code",
   "execution_count": 84,
   "metadata": {},
   "outputs": [],
   "source": [
    "with open('cv_vec_1509.pkl', 'wb') as f:\n",
    "    pickle.dump(cv, f)"
   ]
  },
  {
   "cell_type": "code",
   "execution_count": null,
   "metadata": {},
   "outputs": [],
   "source": []
  }
 ],
 "metadata": {
  "kernelspec": {
   "display_name": "Python 3 (ipykernel)",
   "language": "python",
   "name": "python3"
  },
  "language_info": {
   "codemirror_mode": {
    "name": "ipython",
    "version": 3
   },
   "file_extension": ".py",
   "mimetype": "text/x-python",
   "name": "python",
   "nbconvert_exporter": "python",
   "pygments_lexer": "ipython3",
   "version": "3.9.7"
  }
 },
 "nbformat": 4,
 "nbformat_minor": 4
}
